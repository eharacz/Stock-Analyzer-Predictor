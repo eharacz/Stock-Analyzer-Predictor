{
 "cells": [
  {
   "cell_type": "code",
   "execution_count": 22,
   "metadata": {},
   "outputs": [],
   "source": [
    "import os\n",
    "import time\n",
    "import warnings\n",
    "import pandas as pd\n",
    "import numpy as np\n",
    "from numpy import newaxis\n",
    "from keras.layers.core import Dense, Activation, Dropout\n",
    "from keras.layers import Convolution1D, MaxPooling1D, Flatten,  Embedding\n",
    "from keras.layers import Conv1D, GlobalMaxPooling1D\n",
    "from keras.layers.recurrent import LSTM\n",
    "from keras.models import Sequential\n",
    "from sklearn.preprocessing import StandardScaler, Normalizer\n",
    "from sklearn.preprocessing import MinMaxScaler\n",
    "import matplotlib.pyplot as plt\n",
    "from keras.layers import LSTM, Dense, Dropout, RepeatVector, TimeDistributed, Bidirectional"
   ]
  },
  {
   "cell_type": "code",
   "execution_count": 2,
   "metadata": {},
   "outputs": [],
   "source": [
    "master = pd.read_csv('master_timeseries.csv')\n",
    "\n",
    "master=master.rename(columns={'Unnamed: 0':'Date'})\n",
    "\n",
    "master=master.set_index('Date')"
   ]
  },
  {
   "cell_type": "code",
   "execution_count": 3,
   "metadata": {},
   "outputs": [],
   "source": [
    "msft_df=pd.DataFrame(master['MSFT'])"
   ]
  },
  {
   "cell_type": "code",
   "execution_count": 12,
   "metadata": {},
   "outputs": [],
   "source": [
    "dataset = msft_df.values"
   ]
  },
  {
   "cell_type": "code",
   "execution_count": 15,
   "metadata": {},
   "outputs": [],
   "source": [
    "train = dataset[:int(0.8*(len(msft_df)))]\n",
    "valid = dataset[int(0.8*(len(msft_df))):]"
   ]
  },
  {
   "cell_type": "code",
   "execution_count": 21,
   "metadata": {},
   "outputs": [],
   "source": [
    "#converting dataset into x_train and y_train\n",
    "scaler = MinMaxScaler(feature_range=(0, 1))\n",
    "scaled_data = scaler.fit_transform(dataset)"
   ]
  },
  {
   "cell_type": "code",
   "execution_count": 46,
   "metadata": {},
   "outputs": [],
   "source": [
    "#######"
   ]
  },
  {
   "cell_type": "markdown",
   "metadata": {},
   "source": [
    "##### Method 1"
   ]
  },
  {
   "cell_type": "code",
   "execution_count": 29,
   "metadata": {},
   "outputs": [],
   "source": [
    "# this method leaks. It uses valid information to predict forward. "
   ]
  },
  {
   "cell_type": "code",
   "execution_count": 24,
   "metadata": {},
   "outputs": [],
   "source": [
    "x_train, y_train = [], []\n",
    "for i in range(60,len(train)):\n",
    "    x_train.append(scaled_data[i-60:i,0])\n",
    "    y_train.append(scaled_data[i,0])\n",
    "x_train, y_train = np.array(x_train), np.array(y_train)"
   ]
  },
  {
   "cell_type": "code",
   "execution_count": 25,
   "metadata": {},
   "outputs": [],
   "source": [
    "x_train = np.reshape(x_train, (x_train.shape[0],x_train.shape[1],1))"
   ]
  },
  {
   "cell_type": "code",
   "execution_count": 27,
   "metadata": {},
   "outputs": [],
   "source": [
    "# create and fit the LSTM network\n",
    "model = Sequential()\n",
    "model.add(LSTM(units=50, return_sequences=True, input_shape=(x_train.shape[1],1)))\n",
    "model.add(LSTM(units=50))\n",
    "model.add(Dense(1))\n"
   ]
  },
  {
   "cell_type": "code",
   "execution_count": 28,
   "metadata": {
    "scrolled": true
   },
   "outputs": [
    {
     "name": "stdout",
     "output_type": "stream",
     "text": [
      "Epoch 1/1\n",
      " - 211s - loss: 1.5793e-04\n"
     ]
    },
    {
     "data": {
      "text/plain": [
       "<keras.callbacks.callbacks.History at 0x13feb0650>"
      ]
     },
     "execution_count": 28,
     "metadata": {},
     "output_type": "execute_result"
    }
   ],
   "source": [
    "model.compile(loss='mean_squared_error', optimizer='adam')\n",
    "model.fit(x_train, y_train, epochs=1, batch_size=1, verbose=2)"
   ]
  },
  {
   "cell_type": "code",
   "execution_count": 32,
   "metadata": {},
   "outputs": [],
   "source": [
    "#predicting 246 values, using past 60 from the train data\n",
    "inputs = msft_df[len(msft_df) - len(valid) - 60:].values\n",
    "inputs = inputs.reshape(-1,1)\n",
    "inputs  = scaler.transform(inputs)"
   ]
  },
  {
   "cell_type": "code",
   "execution_count": 33,
   "metadata": {},
   "outputs": [],
   "source": [
    "X_test = []\n",
    "for i in range(60,inputs.shape[0]):\n",
    "    X_test.append(inputs[i-60:i,0])\n",
    "X_test = np.array(X_test)"
   ]
  },
  {
   "cell_type": "code",
   "execution_count": 34,
   "metadata": {},
   "outputs": [],
   "source": [
    "X_test = np.reshape(X_test, (X_test.shape[0],X_test.shape[1],1))\n",
    "closing_price = model.predict(X_test)\n",
    "closing_price = scaler.inverse_transform(closing_price)"
   ]
  },
  {
   "cell_type": "code",
   "execution_count": 29,
   "metadata": {},
   "outputs": [],
   "source": [
    "# Results"
   ]
  },
  {
   "cell_type": "code",
   "execution_count": 35,
   "metadata": {},
   "outputs": [
    {
     "data": {
      "text/plain": [
       "8.046828774894921"
      ]
     },
     "execution_count": 35,
     "metadata": {},
     "output_type": "execute_result"
    }
   ],
   "source": [
    "rms=np.sqrt(np.mean(np.power((valid-closing_price),2)))\n",
    "rms"
   ]
  },
  {
   "cell_type": "code",
   "execution_count": 41,
   "metadata": {},
   "outputs": [
    {
     "name": "stderr",
     "output_type": "stream",
     "text": [
      "/Users/eharacz/opt/anaconda3/lib/python3.7/site-packages/ipykernel_launcher.py:5: SettingWithCopyWarning: \n",
      "A value is trying to be set on a copy of a slice from a DataFrame.\n",
      "Try using .loc[row_indexer,col_indexer] = value instead\n",
      "\n",
      "See the caveats in the documentation: http://pandas.pydata.org/pandas-docs/stable/user_guide/indexing.html#returning-a-view-versus-a-copy\n",
      "  \"\"\"\n"
     ]
    },
    {
     "data": {
      "text/plain": [
       "[<matplotlib.lines.Line2D at 0x140a85290>,\n",
       " <matplotlib.lines.Line2D at 0x140c21f50>]"
      ]
     },
     "execution_count": 41,
     "metadata": {},
     "output_type": "execute_result"
    },
    {
     "data": {
      "image/png": "[encoded data removed]",
      "text/plain": [
       "<Figure size 432x288 with 1 Axes>"
      ]
     },
     "metadata": {
      "needs_background": "light"
     },
     "output_type": "display_data"
    }
   ],
   "source": [
    "# plotting\n",
    "\n",
    "train = msft_df[:2919] \n",
    "valid = msft_df[2919:]\n",
    "valid['Predictions'] = closing_price\n",
    "plt.plot(train['MSFT'])\n",
    "plt.plot(valid[['MSFT','Predictions']])"
   ]
  },
  {
   "cell_type": "code",
   "execution_count": null,
   "metadata": {},
   "outputs": [],
   "source": []
  },
  {
   "cell_type": "markdown",
   "metadata": {},
   "source": [
    "#### Method 2"
   ]
  },
  {
   "cell_type": "code",
   "execution_count": 4,
   "metadata": {},
   "outputs": [],
   "source": [
    "msft_df=msft_df.rename(columns={'MSFT':'Close'})"
   ]
  },
  {
   "cell_type": "code",
   "execution_count": 5,
   "metadata": {
    "collapsed": true
   },
   "outputs": [
    {
     "data": {
      "text/html": [
       "<div>\n",
       "<style scoped>\n",
       "    .dataframe tbody tr th:only-of-type {\n",
       "        vertical-align: middle;\n",
       "    }\n",
       "\n",
       "    .dataframe tbody tr th {\n",
       "        vertical-align: top;\n",
       "    }\n",
       "\n",
       "    .dataframe thead th {\n",
       "        text-align: right;\n",
       "    }\n",
       "</style>\n",
       "<table border=\"1\" class=\"dataframe\">\n",
       "  <thead>\n",
       "    <tr style=\"text-align: right;\">\n",
       "      <th></th>\n",
       "      <th>Close</th>\n",
       "    </tr>\n",
       "    <tr>\n",
       "      <th>Date</th>\n",
       "      <th></th>\n",
       "    </tr>\n",
       "  </thead>\n",
       "  <tbody>\n",
       "    <tr>\n",
       "      <td>2010-01-04</td>\n",
       "      <td>24.294369</td>\n",
       "    </tr>\n",
       "    <tr>\n",
       "      <td>2010-01-05</td>\n",
       "      <td>24.302216</td>\n",
       "    </tr>\n",
       "    <tr>\n",
       "      <td>2010-01-06</td>\n",
       "      <td>24.153070</td>\n",
       "    </tr>\n",
       "    <tr>\n",
       "      <td>2010-01-07</td>\n",
       "      <td>23.901886</td>\n",
       "    </tr>\n",
       "    <tr>\n",
       "      <td>2010-01-08</td>\n",
       "      <td>24.066734</td>\n",
       "    </tr>\n",
       "  </tbody>\n",
       "</table>\n",
       "</div>"
      ],
      "text/plain": [
       "                Close\n",
       "Date                 \n",
       "2010-01-04  24.294369\n",
       "2010-01-05  24.302216\n",
       "2010-01-06  24.153070\n",
       "2010-01-07  23.901886\n",
       "2010-01-08  24.066734"
      ]
     },
     "execution_count": 5,
     "metadata": {},
     "output_type": "execute_result"
    }
   ],
   "source": [
    "msft_df.head()"
   ]
  },
  {
   "cell_type": "code",
   "execution_count": 6,
   "metadata": {},
   "outputs": [],
   "source": [
    "df=msft_df"
   ]
  },
  {
   "cell_type": "code",
   "execution_count": 7,
   "metadata": {},
   "outputs": [],
   "source": [
    "def split_sequence(seq, n_steps_in, n_steps_out):\n",
    "    \"\"\"Splits the univariate time sequence\"\"\"\n",
    "    X, y = [], []\n",
    "    \n",
    "    for i in range(len(seq)):\n",
    "        end = i + n_steps_in\n",
    "        out_end = end + n_steps_out\n",
    "        \n",
    "        if out_end > len(seq):\n",
    "            break\n",
    "        \n",
    "        seq_x, seq_y = seq[i:end], seq[end:out_end]\n",
    "        \n",
    "        X.append(seq_x)\n",
    "        y.append(seq_y)\n",
    "    \n",
    "    return np.array(X), np.array(y)"
   ]
  },
  {
   "cell_type": "code",
   "execution_count": 8,
   "metadata": {},
   "outputs": [],
   "source": [
    "def visualize_training_results(results):\n",
    "    \"\"\"\n",
    "    Plots the loss and accuracy for the training and testing data\n",
    "    \"\"\"\n",
    "    history = results.history\n",
    "    plt.figure(figsize=(12,4))\n",
    "    plt.plot(history['val_loss'])\n",
    "    plt.plot(history['loss'])\n",
    "    plt.legend(['val_loss', 'loss'])\n",
    "    plt.title('Loss')\n",
    "    plt.xlabel('Epochs')\n",
    "    plt.ylabel('Loss')\n",
    "    plt.show()\n",
    "    \n",
    "    plt.figure(figsize=(12,4))\n",
    "    plt.plot(history['val_accuracy'])\n",
    "    plt.plot(history['accuracy'])\n",
    "    plt.legend(['val_accuracy', 'accuracy'])\n",
    "    plt.title('Accuracy')\n",
    "    plt.xlabel('Epochs')\n",
    "    plt.ylabel('Accuracy')\n",
    "    plt.show()\n"
   ]
  },
  {
   "cell_type": "code",
   "execution_count": 9,
   "metadata": {},
   "outputs": [],
   "source": [
    "# How many periods looking back to predict\n",
    "n_per_in  = 730\n",
    "\n",
    "# How many periods to predict\n",
    "n_per_out = 365\n",
    "\n",
    "# Features (in this case it's 1 because there is only one feature: price)\n",
    "n_features = 1\n",
    "\n",
    "# Splitting the data into appropriate sequences\n",
    "X, y = split_sequence(list(df.Close), n_per_in, n_per_out)\n",
    "\n",
    "# Reshaping the X variable from 2D to 3D\n",
    "X = X.reshape((X.shape[0], X.shape[1], n_features))"
   ]
  },
  {
   "cell_type": "code",
   "execution_count": 26,
   "metadata": {},
   "outputs": [
    {
     "name": "stdout",
     "output_type": "stream",
     "text": [
      "Model: \"sequential_6\"\n",
      "_________________________________________________________________\n",
      "Layer (type)                 Output Shape              Param #   \n",
      "=================================================================\n",
      "lstm_35 (LSTM)               (None, 730, 50)           10400     \n",
      "_________________________________________________________________\n",
      "bidirectional_4 (Bidirection (None, 730, 100)          40400     \n",
      "_________________________________________________________________\n",
      "bidirectional_5 (Bidirection (None, 730, 100)          60400     \n",
      "_________________________________________________________________\n",
      "bidirectional_6 (Bidirection (None, 100)               60400     \n",
      "_________________________________________________________________\n",
      "dense_5 (Dense)              (None, 365)               36865     \n",
      "=================================================================\n",
      "Total params: 208,465\n",
      "Trainable params: 208,465\n",
      "Non-trainable params: 0\n",
      "_________________________________________________________________\n"
     ]
    }
   ],
   "source": [
    "model = Sequential()\n",
    "\n",
    "# Activation\n",
    "activ = \"tanh\" #relu\n",
    "\n",
    "# Input layer\n",
    "model.add(LSTM(50, activation=activ, return_sequences=True, input_shape=(n_per_in, n_features)))\n",
    "\n",
    "# Hidden layers\n",
    "model.add(Bidirectional(LSTM(50, activation=activ, return_sequences=True)))\n",
    "model.add(Bidirectional(LSTM(50, activation=activ, return_sequences=True)))\n",
    "\n",
    "#for _ in range(3):\n",
    "   # model.add(LSTM(100, activation=activ, return_sequences=True))\n",
    "    \n",
    "# Final Hidden Layer\n",
    "model.add(Bidirectional(LSTM(50, activation=activ)))\n",
    "#model.add(LSTM(50, activation=activ))\n",
    "\n",
    "# Output layer\n",
    "model.add(Dense(n_per_out))\n",
    "\n",
    "# Model summary\n",
    "model.summary()"
   ]
  },
  {
   "cell_type": "code",
   "execution_count": 27,
   "metadata": {},
   "outputs": [],
   "source": [
    "# Compiling the data with specifications\n",
    "model.compile(optimizer='adam', loss='mse', metrics=['accuracy'])"
   ]
  },
  {
   "cell_type": "code",
   "execution_count": 28,
   "metadata": {},
   "outputs": [
    {
     "name": "stdout",
     "output_type": "stream",
     "text": [
      "Train on 2427 samples, validate on 128 samples\n",
      "Epoch 1/1\n",
      " 122/2427 [>.............................] - ETA: 3:44 - loss: 3684.8284 - accuracy: 0.0000e+00"
     ]
    },
    {
     "ename": "KeyboardInterrupt",
     "evalue": "",
     "output_type": "error",
     "traceback": [
      "\u001b[0;31m---------------------------------------------------------------------------\u001b[0m",
      "\u001b[0;31mKeyboardInterrupt\u001b[0m                         Traceback (most recent call last)",
      "\u001b[0;32m<ipython-input-28-896dcefaf345>\u001b[0m in \u001b[0;36m<module>\u001b[0;34m\u001b[0m\n\u001b[0;32m----> 1\u001b[0;31m \u001b[0mres\u001b[0m \u001b[0;34m=\u001b[0m \u001b[0mmodel\u001b[0m\u001b[0;34m.\u001b[0m\u001b[0mfit\u001b[0m\u001b[0;34m(\u001b[0m\u001b[0mX\u001b[0m\u001b[0;34m,\u001b[0m \u001b[0my\u001b[0m\u001b[0;34m,\u001b[0m \u001b[0mepochs\u001b[0m\u001b[0;34m=\u001b[0m\u001b[0;36m1\u001b[0m\u001b[0;34m,\u001b[0m \u001b[0mbatch_size\u001b[0m\u001b[0;34m=\u001b[0m\u001b[0;36m122\u001b[0m\u001b[0;34m,\u001b[0m \u001b[0mvalidation_split\u001b[0m\u001b[0;34m=\u001b[0m\u001b[0;36m0.05\u001b[0m\u001b[0;34m)\u001b[0m \u001b[0;31m#batch size\u001b[0m\u001b[0;34m\u001b[0m\u001b[0;34m\u001b[0m\u001b[0m\n\u001b[0m",
      "\u001b[0;32m~/opt/anaconda3/lib/python3.7/site-packages/keras/engine/training.py\u001b[0m in \u001b[0;36mfit\u001b[0;34m(self, x, y, batch_size, epochs, verbose, callbacks, validation_split, validation_data, shuffle, class_weight, sample_weight, initial_epoch, steps_per_epoch, validation_steps, validation_freq, max_queue_size, workers, use_multiprocessing, **kwargs)\u001b[0m\n\u001b[1;32m   1237\u001b[0m                                         \u001b[0msteps_per_epoch\u001b[0m\u001b[0;34m=\u001b[0m\u001b[0msteps_per_epoch\u001b[0m\u001b[0;34m,\u001b[0m\u001b[0;34m\u001b[0m\u001b[0;34m\u001b[0m\u001b[0m\n\u001b[1;32m   1238\u001b[0m                                         \u001b[0mvalidation_steps\u001b[0m\u001b[0;34m=\u001b[0m\u001b[0mvalidation_steps\u001b[0m\u001b[0;34m,\u001b[0m\u001b[0;34m\u001b[0m\u001b[0;34m\u001b[0m\u001b[0m\n\u001b[0;32m-> 1239\u001b[0;31m                                         validation_freq=validation_freq)\n\u001b[0m\u001b[1;32m   1240\u001b[0m \u001b[0;34m\u001b[0m\u001b[0m\n\u001b[1;32m   1241\u001b[0m     def evaluate(self,\n",
      "\u001b[0;32m~/opt/anaconda3/lib/python3.7/site-packages/keras/engine/training_arrays.py\u001b[0m in \u001b[0;36mfit_loop\u001b[0;34m(model, fit_function, fit_inputs, out_labels, batch_size, epochs, verbose, callbacks, val_function, val_inputs, shuffle, initial_epoch, steps_per_epoch, validation_steps, validation_freq)\u001b[0m\n\u001b[1;32m    194\u001b[0m                     \u001b[0mins_batch\u001b[0m\u001b[0;34m[\u001b[0m\u001b[0mi\u001b[0m\u001b[0;34m]\u001b[0m \u001b[0;34m=\u001b[0m \u001b[0mins_batch\u001b[0m\u001b[0;34m[\u001b[0m\u001b[0mi\u001b[0m\u001b[0;34m]\u001b[0m\u001b[0;34m.\u001b[0m\u001b[0mtoarray\u001b[0m\u001b[0;34m(\u001b[0m\u001b[0;34m)\u001b[0m\u001b[0;34m\u001b[0m\u001b[0;34m\u001b[0m\u001b[0m\n\u001b[1;32m    195\u001b[0m \u001b[0;34m\u001b[0m\u001b[0m\n\u001b[0;32m--> 196\u001b[0;31m                 \u001b[0mouts\u001b[0m \u001b[0;34m=\u001b[0m \u001b[0mfit_function\u001b[0m\u001b[0;34m(\u001b[0m\u001b[0mins_batch\u001b[0m\u001b[0;34m)\u001b[0m\u001b[0;34m\u001b[0m\u001b[0;34m\u001b[0m\u001b[0m\n\u001b[0m\u001b[1;32m    197\u001b[0m                 \u001b[0mouts\u001b[0m \u001b[0;34m=\u001b[0m \u001b[0mto_list\u001b[0m\u001b[0;34m(\u001b[0m\u001b[0mouts\u001b[0m\u001b[0;34m)\u001b[0m\u001b[0;34m\u001b[0m\u001b[0;34m\u001b[0m\u001b[0m\n\u001b[1;32m    198\u001b[0m                 \u001b[0;32mfor\u001b[0m \u001b[0ml\u001b[0m\u001b[0;34m,\u001b[0m \u001b[0mo\u001b[0m \u001b[0;32min\u001b[0m \u001b[0mzip\u001b[0m\u001b[0;34m(\u001b[0m\u001b[0mout_labels\u001b[0m\u001b[0;34m,\u001b[0m \u001b[0mouts\u001b[0m\u001b[0;34m)\u001b[0m\u001b[0;34m:\u001b[0m\u001b[0;34m\u001b[0m\u001b[0;34m\u001b[0m\u001b[0m\n",
      "\u001b[0;32m~/opt/anaconda3/lib/python3.7/site-packages/tensorflow_core/python/keras/backend.py\u001b[0m in \u001b[0;36m__call__\u001b[0;34m(self, inputs)\u001b[0m\n\u001b[1;32m   3725\u001b[0m         \u001b[0mvalue\u001b[0m \u001b[0;34m=\u001b[0m \u001b[0mmath_ops\u001b[0m\u001b[0;34m.\u001b[0m\u001b[0mcast\u001b[0m\u001b[0;34m(\u001b[0m\u001b[0mvalue\u001b[0m\u001b[0;34m,\u001b[0m \u001b[0mtensor\u001b[0m\u001b[0;34m.\u001b[0m\u001b[0mdtype\u001b[0m\u001b[0;34m)\u001b[0m\u001b[0;34m\u001b[0m\u001b[0;34m\u001b[0m\u001b[0m\n\u001b[1;32m   3726\u001b[0m       \u001b[0mconverted_inputs\u001b[0m\u001b[0;34m.\u001b[0m\u001b[0mappend\u001b[0m\u001b[0;34m(\u001b[0m\u001b[0mvalue\u001b[0m\u001b[0;34m)\u001b[0m\u001b[0;34m\u001b[0m\u001b[0;34m\u001b[0m\u001b[0m\n\u001b[0;32m-> 3727\u001b[0;31m     \u001b[0moutputs\u001b[0m \u001b[0;34m=\u001b[0m \u001b[0mself\u001b[0m\u001b[0;34m.\u001b[0m\u001b[0m_graph_fn\u001b[0m\u001b[0;34m(\u001b[0m\u001b[0;34m*\u001b[0m\u001b[0mconverted_inputs\u001b[0m\u001b[0;34m)\u001b[0m\u001b[0;34m\u001b[0m\u001b[0;34m\u001b[0m\u001b[0m\n\u001b[0m\u001b[1;32m   3728\u001b[0m \u001b[0;34m\u001b[0m\u001b[0m\n\u001b[1;32m   3729\u001b[0m     \u001b[0;31m# EagerTensor.numpy() will often make a copy to ensure memory safety.\u001b[0m\u001b[0;34m\u001b[0m\u001b[0;34m\u001b[0m\u001b[0;34m\u001b[0m\u001b[0m\n",
      "\u001b[0;32m~/opt/anaconda3/lib/python3.7/site-packages/tensorflow_core/python/eager/function.py\u001b[0m in \u001b[0;36m__call__\u001b[0;34m(self, *args, **kwargs)\u001b[0m\n\u001b[1;32m   1549\u001b[0m       \u001b[0mTypeError\u001b[0m\u001b[0;34m:\u001b[0m \u001b[0mFor\u001b[0m \u001b[0minvalid\u001b[0m \u001b[0mpositional\u001b[0m\u001b[0;34m/\u001b[0m\u001b[0mkeyword\u001b[0m \u001b[0margument\u001b[0m \u001b[0mcombinations\u001b[0m\u001b[0;34m.\u001b[0m\u001b[0;34m\u001b[0m\u001b[0;34m\u001b[0m\u001b[0m\n\u001b[1;32m   1550\u001b[0m     \"\"\"\n\u001b[0;32m-> 1551\u001b[0;31m     \u001b[0;32mreturn\u001b[0m \u001b[0mself\u001b[0m\u001b[0;34m.\u001b[0m\u001b[0m_call_impl\u001b[0m\u001b[0;34m(\u001b[0m\u001b[0margs\u001b[0m\u001b[0;34m,\u001b[0m \u001b[0mkwargs\u001b[0m\u001b[0;34m)\u001b[0m\u001b[0;34m\u001b[0m\u001b[0;34m\u001b[0m\u001b[0m\n\u001b[0m\u001b[1;32m   1552\u001b[0m \u001b[0;34m\u001b[0m\u001b[0m\n\u001b[1;32m   1553\u001b[0m   \u001b[0;32mdef\u001b[0m \u001b[0m_call_impl\u001b[0m\u001b[0;34m(\u001b[0m\u001b[0mself\u001b[0m\u001b[0;34m,\u001b[0m \u001b[0margs\u001b[0m\u001b[0;34m,\u001b[0m \u001b[0mkwargs\u001b[0m\u001b[0;34m,\u001b[0m \u001b[0mcancellation_manager\u001b[0m\u001b[0;34m=\u001b[0m\u001b[0;32mNone\u001b[0m\u001b[0;34m)\u001b[0m\u001b[0;34m:\u001b[0m\u001b[0;34m\u001b[0m\u001b[0;34m\u001b[0m\u001b[0m\n",
      "\u001b[0;32m~/opt/anaconda3/lib/python3.7/site-packages/tensorflow_core/python/eager/function.py\u001b[0m in \u001b[0;36m_call_impl\u001b[0;34m(self, args, kwargs, cancellation_manager)\u001b[0m\n\u001b[1;32m   1589\u001b[0m       raise TypeError(\"Keyword arguments {} unknown. Expected {}.\".format(\n\u001b[1;32m   1590\u001b[0m           list(kwargs.keys()), list(self._arg_keywords)))\n\u001b[0;32m-> 1591\u001b[0;31m     \u001b[0;32mreturn\u001b[0m \u001b[0mself\u001b[0m\u001b[0;34m.\u001b[0m\u001b[0m_call_flat\u001b[0m\u001b[0;34m(\u001b[0m\u001b[0margs\u001b[0m\u001b[0;34m,\u001b[0m \u001b[0mself\u001b[0m\u001b[0;34m.\u001b[0m\u001b[0mcaptured_inputs\u001b[0m\u001b[0;34m,\u001b[0m \u001b[0mcancellation_manager\u001b[0m\u001b[0;34m)\u001b[0m\u001b[0;34m\u001b[0m\u001b[0;34m\u001b[0m\u001b[0m\n\u001b[0m\u001b[1;32m   1592\u001b[0m \u001b[0;34m\u001b[0m\u001b[0m\n\u001b[1;32m   1593\u001b[0m   \u001b[0;32mdef\u001b[0m \u001b[0m_filtered_call\u001b[0m\u001b[0;34m(\u001b[0m\u001b[0mself\u001b[0m\u001b[0;34m,\u001b[0m \u001b[0margs\u001b[0m\u001b[0;34m,\u001b[0m \u001b[0mkwargs\u001b[0m\u001b[0;34m)\u001b[0m\u001b[0;34m:\u001b[0m\u001b[0;34m\u001b[0m\u001b[0;34m\u001b[0m\u001b[0m\n",
      "\u001b[0;32m~/opt/anaconda3/lib/python3.7/site-packages/tensorflow_core/python/eager/function.py\u001b[0m in \u001b[0;36m_call_flat\u001b[0;34m(self, args, captured_inputs, cancellation_manager)\u001b[0m\n\u001b[1;32m   1690\u001b[0m       \u001b[0;31m# No tape is watching; skip to running the function.\u001b[0m\u001b[0;34m\u001b[0m\u001b[0;34m\u001b[0m\u001b[0;34m\u001b[0m\u001b[0m\n\u001b[1;32m   1691\u001b[0m       return self._build_call_outputs(self._inference_function.call(\n\u001b[0;32m-> 1692\u001b[0;31m           ctx, args, cancellation_manager=cancellation_manager))\n\u001b[0m\u001b[1;32m   1693\u001b[0m     forward_backward = self._select_forward_and_backward_functions(\n\u001b[1;32m   1694\u001b[0m         \u001b[0margs\u001b[0m\u001b[0;34m,\u001b[0m\u001b[0;34m\u001b[0m\u001b[0;34m\u001b[0m\u001b[0m\n",
      "\u001b[0;32m~/opt/anaconda3/lib/python3.7/site-packages/tensorflow_core/python/eager/function.py\u001b[0m in \u001b[0;36mcall\u001b[0;34m(self, ctx, args, cancellation_manager)\u001b[0m\n\u001b[1;32m    543\u001b[0m               \u001b[0minputs\u001b[0m\u001b[0;34m=\u001b[0m\u001b[0margs\u001b[0m\u001b[0;34m,\u001b[0m\u001b[0;34m\u001b[0m\u001b[0;34m\u001b[0m\u001b[0m\n\u001b[1;32m    544\u001b[0m               \u001b[0mattrs\u001b[0m\u001b[0;34m=\u001b[0m\u001b[0;34m(\u001b[0m\u001b[0;34m\"executor_type\"\u001b[0m\u001b[0;34m,\u001b[0m \u001b[0mexecutor_type\u001b[0m\u001b[0;34m,\u001b[0m \u001b[0;34m\"config_proto\"\u001b[0m\u001b[0;34m,\u001b[0m \u001b[0mconfig\u001b[0m\u001b[0;34m)\u001b[0m\u001b[0;34m,\u001b[0m\u001b[0;34m\u001b[0m\u001b[0;34m\u001b[0m\u001b[0m\n\u001b[0;32m--> 545\u001b[0;31m               ctx=ctx)\n\u001b[0m\u001b[1;32m    546\u001b[0m         \u001b[0;32melse\u001b[0m\u001b[0;34m:\u001b[0m\u001b[0;34m\u001b[0m\u001b[0;34m\u001b[0m\u001b[0m\n\u001b[1;32m    547\u001b[0m           outputs = execute.execute_with_cancellation(\n",
      "\u001b[0;32m~/opt/anaconda3/lib/python3.7/site-packages/tensorflow_core/python/eager/execute.py\u001b[0m in \u001b[0;36mquick_execute\u001b[0;34m(op_name, num_outputs, inputs, attrs, ctx, name)\u001b[0m\n\u001b[1;32m     59\u001b[0m     tensors = pywrap_tensorflow.TFE_Py_Execute(ctx._handle, device_name,\n\u001b[1;32m     60\u001b[0m                                                \u001b[0mop_name\u001b[0m\u001b[0;34m,\u001b[0m \u001b[0minputs\u001b[0m\u001b[0;34m,\u001b[0m \u001b[0mattrs\u001b[0m\u001b[0;34m,\u001b[0m\u001b[0;34m\u001b[0m\u001b[0;34m\u001b[0m\u001b[0m\n\u001b[0;32m---> 61\u001b[0;31m                                                num_outputs)\n\u001b[0m\u001b[1;32m     62\u001b[0m   \u001b[0;32mexcept\u001b[0m \u001b[0mcore\u001b[0m\u001b[0;34m.\u001b[0m\u001b[0m_NotOkStatusException\u001b[0m \u001b[0;32mas\u001b[0m \u001b[0me\u001b[0m\u001b[0;34m:\u001b[0m\u001b[0;34m\u001b[0m\u001b[0;34m\u001b[0m\u001b[0m\n\u001b[1;32m     63\u001b[0m     \u001b[0;32mif\u001b[0m \u001b[0mname\u001b[0m \u001b[0;32mis\u001b[0m \u001b[0;32mnot\u001b[0m \u001b[0;32mNone\u001b[0m\u001b[0;34m:\u001b[0m\u001b[0;34m\u001b[0m\u001b[0;34m\u001b[0m\u001b[0m\n",
      "\u001b[0;31mKeyboardInterrupt\u001b[0m: "
     ]
    }
   ],
   "source": [
    "res = model.fit(X, y, epochs=1, batch_size=122, validation_split=0.05) #batch size "
   ]
  },
  {
   "cell_type": "code",
   "execution_count": 17,
   "metadata": {
    "collapsed": true
   },
   "outputs": [
    {
     "data": {
      "image/png": "[encoded data removed]",
      "text/plain": [
       "<Figure size 864x288 with 1 Axes>"
      ]
     },
     "metadata": {
      "needs_background": "light"
     },
     "output_type": "display_data"
    },
    {
     "data": {
      "image/png": "[encoded data removed]",
      "text/plain": [
       "<Figure size 864x288 with 1 Axes>"
      ]
     },
     "metadata": {
      "needs_background": "light"
     },
     "output_type": "display_data"
    }
   ],
   "source": [
    "visualize_training_results(res)"
   ]
  },
  {
   "cell_type": "code",
   "execution_count": 18,
   "metadata": {
    "collapsed": true
   },
   "outputs": [
    {
     "name": "stdout",
     "output_type": "stream",
     "text": [
      "Predicted:\n",
      " [0.8977571129798889, 1.0715868473052979, 1.069156527519226, 1.055222988128662, 0.6046233773231506, 0.1079062670469284, 1.0336774587631226, 0.952167272567749, 1.0955095291137695, 1.0978217124938965, 0.61993807554245, 1.3034846782684326, 0.1558552086353302, 0.5438706874847412, 0.7370861172676086, 0.48526278138160706, 0.6597996354103088, 1.0648984909057617, 1.0028400421142578, 0.26678401231765747, 1.0510797500610352, 1.2366926670074463, 1.6145414113998413, 0.978395402431488, -0.4100610017776489, 1.9383028745651245, -0.012877840548753738, 1.435418725013733, 0.839637041091919, 0.6746295094490051, 0.5991827845573425, 0.4444431960582733, 0.870362401008606, 0.4685077965259552, 1.554980754852295, 0.8362951874732971, 0.24157395958900452, 0.7548004388809204, 0.21330557763576508, 1.506437063217163, 1.7508139610290527, 1.5235494375228882, 0.018657518550753593, 0.6893991231918335, -0.5494939684867859, 1.202352523803711, 1.3049368858337402, 1.0832850933074951, 0.7973604202270508, 1.4138946533203125, 0.5265971422195435, 0.2433292716741562, 1.1402043104171753, 1.0637972354888916, 1.5126569271087646, 0.38508933782577515, 1.1354821920394897, 1.110140085220337, 1.4652163982391357, 0.5909966230392456, 0.20514407753944397, 0.8572739362716675, 1.1444799900054932, 0.7607411742210388, 0.816065788269043, 1.291089415550232, 1.1584022045135498, 1.408177137374878, 1.452468752861023, 1.4432333707809448, 1.1323388814926147, 1.048246145248413, 0.7400609850883484, 1.0284680128097534, 0.5794984102249146, 1.152246356010437, 0.28692513704299927, 0.47259336709976196, 0.652289628982544, 0.34044739603996277, 1.3122282028198242, 1.0047283172607422, 1.170240879058838, 0.8367065787315369, 1.6699219942092896, 0.7310788631439209, 1.2132984399795532, 0.7636668682098389, 0.7044022083282471, 0.5449969172477722, 1.112734317779541, 0.07285717129707336, 0.7535578012466431, 1.0061938762664795, 1.1958824396133423, 0.617400586605072, 1.4410767555236816, 1.1122595071792603, 2.17868709564209, 1.2612934112548828, 0.05146016180515289, 1.457037091255188, -0.04801805317401886, 0.5480353236198425, 0.4773358404636383, 1.1130434274673462, 0.33947744965553284, 1.838807225227356, 0.7979297041893005, 0.9241846799850464, 1.2495592832565308, 0.9596991539001465, 0.6293213367462158, 1.9150246381759644, 0.5544643998146057, 0.640575647354126, 0.38487789034843445, 1.0661938190460205, 0.7538819909095764, 0.2026667296886444, 0.4174460768699646, 1.2374825477600098, 1.3453192710876465, 0.7994989156723022, 1.249483346939087, 0.9519750475883484, 1.1299726963043213, 2.05580997467041, 1.1403930187225342, 0.5916336178779602, 1.3572747707366943, 1.04220712184906, 0.8389350771903992, 0.6518152356147766, 1.1324565410614014, 1.2421422004699707, 0.7466868162155151, 1.0364253520965576, 1.4665184020996094, 1.3750674724578857, 0.783886194229126, 0.7692152857780457, 0.6873375773429871, 1.6241509914398193, 1.3987798690795898, 0.8033289909362793, 1.117325782775879, 0.9795100092887878, 1.3419702053070068, 0.9136431217193604, 0.9956651329994202, 1.1588459014892578, 1.0844571590423584, 0.9232634902000427, 0.917058527469635, 0.007835395634174347, 0.8172668814659119, 0.31992846727371216, 1.1241124868392944, 1.1338977813720703, 1.015066146850586, 1.0752885341644287, 0.5170007348060608, 1.5934252738952637, 1.1411681175231934, 0.7118743658065796, 1.1318386793136597, 0.45920947194099426, 0.8776600956916809, 0.4471454918384552, 0.6687034964561462, 1.3795630931854248, 0.280630886554718, 1.2668113708496094, 0.0982581153512001, 1.1193029880523682, 1.2835644483566284, 0.3452051281929016, 0.6086680293083191, 1.231648325920105, 1.2734688520431519, 1.745351791381836, 0.9424062371253967, 0.8281447887420654, 0.1491270810365677, 0.36212795972824097, 1.3444832563400269, 1.0005089044570923, 0.7430317401885986, 1.1675034761428833, 1.326607346534729, 1.3074630498886108, 1.5286322832107544, 0.8920374512672424, 0.7083547115325928, 1.1014715433120728, 0.8313904404640198, 0.8993672132492065, 0.1734650880098343, 0.6125448346138, 0.6941666007041931, 0.4335276782512665, 0.24656973779201508, 0.8790984153747559, 1.5387375354766846, 1.151468276977539, 1.1863322257995605, 0.9145182967185974, 0.5832341909408569, 0.1591372787952423, 1.726135492324829, 0.8837780356407166, 0.5252857804298401, 0.24634429812431335, 0.28826695680618286, 0.38546672463417053, 1.183184027671814, 0.33966442942619324, 1.0060025453567505, 1.4848594665527344, 0.2534900903701782, 1.2159651517868042, 0.8984075784683228, 1.1165049076080322, 1.10916268825531, 0.683881402015686, 1.3364641666412354, 0.9655917286872864, 0.7943037748336792, 0.9754799008369446, 0.6883839964866638, 1.1176446676254272, 0.8479404449462891, 0.97169029712677, 0.3985115885734558, 1.2741349935531616, 0.46305418014526367, 0.8398990035057068, 1.312803864479065, 1.1957364082336426, 0.9705106019973755, 1.1740601062774658, 1.4930850267410278, 1.5237109661102295, 1.0604898929595947, 0.8753907680511475, 0.6681002974510193, 1.0008450746536255, 0.10281006991863251, 1.4528895616531372, 1.0207821130752563, 0.8599185943603516, 0.8845027089118958, 1.2167658805847168, 0.9727734327316284, 0.8802167773246765, 1.2906056642532349, 0.9291700124740601, 1.0820077657699585, 1.1490538120269775, 1.1062883138656616, 1.0238556861877441, 0.8676651120185852, 1.007975697517395, 0.9484911561012268, 1.1701074838638306, 0.6906554102897644, 1.1176923513412476, 1.404726266860962, 0.36143121123313904, 1.4487682580947876, 0.5811254978179932, 1.6531177759170532, 1.0741080045700073, 1.387205719947815, 0.2997458875179291, 1.1769572496414185, 1.141528606414795, 0.7534440159797668, 0.5426673293113708, 1.3407272100448608, 1.1476972103118896, 1.3480267524719238, 1.6776249408721924, 1.6663362979888916, 0.4789157807826996, 0.9401447176933289, 0.3893691599369049, 1.2766221761703491, 1.3212171792984009, 1.3505445718765259, 0.5784854292869568, 0.8472607135772705, 1.548822283744812, 0.549044668674469, 1.642530083656311, 0.5422368049621582, 1.2264137268066406, 0.4414876401424408, 0.3551883399486542, 1.4062120914459229, 1.0342462062835693, 0.8343489766120911, 1.7373673915863037, 1.0217646360397339, 0.524336576461792, 1.0513219833374023, 1.7354613542556763, 0.8899173140525818, 1.3160690069198608, 0.763107419013977, 0.8224109411239624, 0.05681031942367554, 0.6682305335998535, 0.5546241998672485, 1.193930745124817, 0.597077488899231, 1.1217443943023682, 1.0699381828308105, 0.6676637530326843, 1.2091866731643677, 1.7722893953323364, 0.5144463777542114, 0.557832658290863, 1.0443557500839233, 1.040067195892334, 1.2969493865966797, 1.3277829885482788, 1.4961286783218384, 0.45647138357162476, 1.1462491750717163, 1.1471631526947021, 1.3409008979797363, 0.487458199262619, 1.4306795597076416, 1.1441549062728882, 0.28048020601272583, 1.1793639659881592, 1.31923508644104, 1.6810582876205444, 0.7449533343315125, 0.5993468761444092, 1.1891601085662842, 0.9328277707099915, 0.11455806344747543, 1.3455548286437988, 1.1842427253723145, 0.8182114362716675, 1.0088977813720703, 0.7405447959899902, 0.6515389084815979, 0.1856764853000641, 0.08928478509187698, 0.14263947308063507, 0.8062393069267273, 0.30574366450309753, 0.9796891808509827, 0.4436379671096802, 1.4199868440628052, 1.1586252450942993, 1.3337006568908691, 0.7518856525421143, 0.6492189764976501, 0.5405762791633606, 1.1919057369232178]\n",
      "\n",
      "Actual:\n",
      " [83.02959442138672, 83.4159927368164, 84.15019226074219, 85.19349670410156, 85.19349670410156, 85.19349670410156, 85.28042602539062, 85.22247314453125, 84.8360595703125, 85.08721923828125, 86.55557250976562, 86.55557250976562, 86.55557250976562, 86.55557250976562, 85.3480453491211, 87.07721710205078, 87.0385971069336, 86.94198608398438, 86.94198608398438, 86.94198608398438, 88.49727630615234, 88.77743530273438, 88.70013427734375, 89.19282531738281, 90.86404418945312, 90.86404418945312, 90.86404418945312, 90.72879028320312, 89.58888244628906, 91.78175354003906, 91.05724334716795, 88.6614990234375, 88.6614990234375, 88.6614990234375, 85.00994873046875, 88.2267837524414, 86.56523132324219, 82.12154388427734, 85.18382263183594, 85.18382263183594, 85.18382263183594, 86.10153198242188, 86.77777099609375, 88.13655090332031, 89.93208312988281, 89.29151916503906, 89.29151916503906, 89.29151916503906, 89.29151916503906, 89.99031829833984, 88.79651641845703, 89.02946472167969, 91.2908706665039, 91.2908706665039, 91.2908706665039, 92.6108169555664, 91.4267578125, 91.00940704345705, 90.11649322509766, 90.31060791015624, 90.31060791015624, 90.31060791015624, 90.88323211669922, 90.57264709472656, 91.09675598144531, 91.64997100830078, 93.69786071777344, 93.69786071777344, 93.69786071777344, 93.92107391357422, 91.63057708740234, 91.08704376220705, 91.40733337402344, 91.8149642944336, 91.8149642944336, 91.8149642944336, 90.15530395507812, 90.38823699951172, 89.75738525390625, 87.14657592773438, 84.6134262084961, 84.6134262084961, 84.6134262084961, 91.01911163330078, 86.83599853515625, 86.75834655761719, 88.58300018310547, 88.58300018310547, 88.58300018310547, 88.58300018310547, 85.9139633178711, 87.06892395019531, 89.61180114746094, 89.66032409667969, 87.57362365722656, 87.57362365722656, 87.57362365722656, 88.09771728515625, 90.14559936523438, 89.15563201904297, 90.8249969482422, 90.33971405029295, 90.33971405029295, 90.33971405029295, 91.39762878417969, 93.24168395996094, 93.60079956054688, 93.28050994873048, 92.20318603515624, 92.20318603515624, 92.20318603515624, 92.54287719726562, 90.37853240966795, 89.5923843383789, 91.48497772216795, 92.99905395507812, 92.99905395507812, 92.99905395507812, 90.76675415039062, 92.20318603515624, 90.75706481933594, 91.30056762695312, 92.35848236083984, 92.35848236083984, 92.35848236083984, 93.38726806640624, 92.98934173583984, 94.08606719970705, 95.02751922607422, 94.82369232177734, 94.82369232177734, 94.82369232177734, 95.14398956298828, 94.45489501953124, 94.69857788085938, 93.75305938720705, 93.9285125732422, 93.9285125732422, 93.9285125732422, 95.1372299194336, 95.03975677490234, 96.17047882080078, 95.82931518554688, 95.8780517578125, 95.8780517578125, 95.8780517578125, 95.8780517578125, 95.53687286376952, 96.45315551757812, 96.34593963623048, 98.24673461914062, 98.24673461914062, 98.24673461914062, 99.10453033447266, 99.61141204833984, 99.90383911132812, 98.33446502685548, 99.0655288696289, 99.0655288696289, 99.0655288696289, 98.50017547607422, 98.7536163330078, 98.3052215576172, 98.86083984375, 97.60338592529295, 97.60338592529295, 97.60338592529295, 98.31497192382812, 98.31497192382812, 99.29948425292969, 98.58790588378906, 97.87632751464844, 97.87632751464844, 97.87632751464844, 95.90730285644531, 96.57988739013672, 95.07875061035156, 96.1412353515625, 96.12174987792969, 96.12174987792969, 96.12174987792969, 97.48641967773438, 96.55065155029295, 96.55065155029295, 97.24272918701172, 98.60740661621094, 98.60740661621094, 98.60740661621094, 99.2799835205078, 99.5431671142578, 99.40670776367188, 101.56095123291016, 102.7696533203125, 102.7696533203125, 102.7696533203125, 102.26277160644531, 103.27653503417969, 102.46746826171876, 101.7656478881836, 103.58844757080078, 103.58844757080078, 103.58844757080078, 105.24556732177734, 104.9433822631836, 108.03338623046876, 106.85392761230469, 104.96287536621094, 104.96287536621094, 104.96287536621094, 102.71116638183594, 103.40325164794922, 103.59820556640624, 104.85565185546876, 105.31379699707031, 105.31379699707031, 105.31379699707031, 105.40151977539062, 106.13259887695312, 106.72720336914062, 106.90265655517578, 106.24957275390624, 106.24957275390624, 106.24957275390624, 105.47949981689452, 106.79544067382812, 105.34723663330078, 105.3276596069336, 105.26895904541016, 105.26895904541016, 105.26895904541016, 104.57421875, 103.70333099365234, 104.76011657714844, 105.24937438964844, 106.0713348388672, 106.0713348388672, 106.0713348388672, 107.24555206298828, 107.89138793945312, 109.6135711669922, 109.54507446289062, 109.91691589355469, 109.91691589355469, 109.91691589355469, 109.91691589355469, 109.31023406982422, 106.1594009399414, 106.4040298461914, 105.88542175292969, 105.88542175292969, 105.88542175292969, 107.03028869628906, 108.8503189086914, 109.31023406982422, 110.48445129394531, 110.9345703125, 110.9345703125, 110.9345703125, 109.73099517822266, 110.77800750732422, 109.3004379272461, 111.13027954101562, 111.8054656982422, 111.8054656982422, 111.8054656982422, 112.2066421508789, 111.9913558959961, 111.53147888183594, 111.95223236083984, 111.9130859375, 111.9130859375, 111.9130859375, 113.12645721435548, 112.67633819580078, 112.6958999633789, 110.36702728271484, 109.72120666503906, 109.72120666503906, 109.72120666503906, 108.4687042236328, 109.84841918945312, 103.87946319580078, 103.63482666015624, 107.21620178222656, 107.21620178222656, 107.21620178222656, 105.28851318359376, 108.61548614501952, 108.33171081542969, 106.169189453125, 106.32575988769531, 106.32575988769531, 106.32575988769531, 107.27490234375, 105.77777862548828, 100.1219482421875, 105.97349548339844, 104.66227722167969, 104.66227722167969, 104.66227722167969, 101.61907196044922, 101.50165557861328, 104.51548767089844, 103.64460754394531, 103.87946319580078, 103.87946319580078, 103.87946319580078, 105.2004623413086, 105.40594482421876, 109.55485534667969, 109.34937286376952, 107.21620178222656, 107.21620178222656, 107.21620178222656, 104.57421875, 104.64269256591795, 103.15875244140624, 105.42889404296876, 106.42147064208984, 106.42147064208984, 106.42147064208984, 102.8147964477539, 99.95500946044922, 101.33084869384766, 101.33084869384766, 101.29154205322266, 101.29154205322266, 101.29154205322266, 104.63288116455078, 105.29132080078124, 109.20264434814452, 108.28868865966795, 108.97661590576172, 108.97661590576172, 108.97661590576172, 110.1559066772461, 106.64749908447266, 106.64749908447266, 107.30594635009766, 103.01134490966795, 103.01134490966795, 103.01134490966795, 105.73353576660156, 106.7162857055664, 107.19784545898438, 107.56144714355469, 104.20046997070312, 104.20046997070312, 104.20046997070312, 101.1146469116211, 102.17601013183594, 101.90084838867188, 99.75846099853516, 96.53504943847656, 96.53504943847656, 96.53504943847656, 92.50579833984376, 92.50579833984376, 98.8248519897461, 99.43416595458984, 98.65778350830078, 98.65778350830078, 98.65778350830078, 99.81742095947266, 99.81742095947266]\n"
     ]
    },
    {
     "data": {
      "image/png": "[encoded data removed]",
      "text/plain": [
       "<Figure size 864x360 with 1 Axes>"
      ]
     },
     "metadata": {
      "needs_background": "light"
     },
     "output_type": "display_data"
    }
   ],
   "source": [
    "plt.figure(figsize=(12,5))\n",
    "# Getting predictions\n",
    "yhat = model.predict(X[-n_per_out].reshape(1, n_per_in, n_features)).tolist()[0]\n",
    "\n",
    "# Printing and plotting those predictions\n",
    "print(\"Predicted:\\n\", yhat)\n",
    "plt.plot(yhat, label='Predicted')\n",
    "\n",
    "# Printing and plotting the actual values\n",
    "print(\"\\nActual:\\n\", y[-n_per_out].tolist())\n",
    "plt.plot(y[-n_per_out].tolist(), label='Actual')\n",
    "\n",
    "plt.title(f\"Predicted vs Actual Closing Prices\")\n",
    "plt.ylabel(\"Price\")\n",
    "plt.legend()\n",
    "plt.show()"
   ]
  },
  {
   "cell_type": "code",
   "execution_count": 19,
   "metadata": {
    "collapsed": true
   },
   "outputs": [
    {
     "name": "stdout",
     "output_type": "stream",
     "text": [
      "Predicted Prices:\n",
      " [0.8977301120758057, 1.0715526342391968, 1.0691293478012085, 1.055195927619934, 0.604619562625885, 0.10790793597698212, 1.0336401462554932, 0.9521418213844299, 1.0954865217208862, 1.097786545753479, 0.6199202537536621, 1.3034440279006958, 0.15585948526859283, 0.5438351631164551, 0.7370471954345703, 0.48524829745292664, 0.65977942943573, 1.0648808479309082, 1.002785325050354, 0.26677608489990234, 1.051042079925537, 1.236635446548462, 1.6144779920578003, 0.9783421754837036, -0.41005533933639526, 1.9382432699203491, -0.012869928032159805, 1.4353760480880737, 0.839609682559967, 0.6746358871459961, 0.599175751209259, 0.44441381096839905, 0.8703418970108032, 0.46850088238716125, 1.5549476146697998, 0.8362876176834106, 0.24155695736408234, 0.7547875046730042, 0.21329431235790253, 1.506395936012268, 1.7507516145706177, 1.523516058921814, 0.018653588369488716, 0.6893761157989502, -0.5494692921638489, 1.2023067474365234, 1.3048869371414185, 1.0832535028457642, 0.7973376512527466, 1.4138309955596924, 0.5265768766403198, 0.24332618713378906, 1.1401751041412354, 1.0637556314468384, 1.5126022100448608, 0.38507357239723206, 1.1354467868804932, 1.1101148128509521, 1.465169072151184, 0.5909856557846069, 0.20513063669204712, 0.8572542667388916, 1.1444423198699951, 0.7607080340385437, 0.8160225749015808, 1.2910419702529907, 1.1583646535873413, 1.4081350564956665, 1.452415108680725, 1.4431930780410767, 1.1322892904281616, 1.0482213497161865, 0.7400295734405518, 1.0284289121627808, 0.579479992389679, 1.1522167921066284, 0.2869347929954529, 0.47259050607681274, 0.6522635817527771, 0.340431272983551, 1.3122004270553589, 1.0047253370285034, 1.1702027320861816, 0.8366793990135193, 1.6698715686798096, 0.7310630083084106, 1.2132542133331299, 0.7636452317237854, 0.7043891549110413, 0.5449778437614441, 1.1126900911331177, 0.07285496592521667, 0.7535505294799805, 1.006181001663208, 1.1958481073379517, 0.6173877716064453, 1.4410110712051392, 1.112268090248108, 2.1786136627197266, 1.2612605094909668, 0.05146560072898865, 1.4570016860961914, -0.048025377094745636, 0.5480092763900757, 0.4773370027542114, 1.1130064725875854, 0.3394683003425598, 1.838758945465088, 0.7978644967079163, 0.9241518974304199, 1.249535083770752, 0.9596712589263916, 0.629291832447052, 1.9149807691574097, 0.5544478893280029, 0.6405729651451111, 0.38487356901168823, 1.0661684274673462, 0.753838837146759, 0.20267251133918762, 0.41743698716163635, 1.237432599067688, 1.3452664613723755, 0.799479067325592, 1.2494196891784668, 0.9519523978233337, 1.1299532651901245, 2.0557475090026855, 1.1403595209121704, 0.5916205644607544, 1.357236385345459, 1.042179822921753, 0.83891761302948, 0.6517826914787292, 1.1324280500411987, 1.2421152591705322, 0.7466573715209961, 1.0363733768463135, 1.4664783477783203, 1.3750311136245728, 0.7838719487190247, 0.7692071199417114, 0.6873323917388916, 1.624114990234375, 1.3987369537353516, 0.8033009767532349, 1.1172908544540405, 0.979455828666687, 1.341934323310852, 0.9136267900466919, 0.9956426620483398, 1.158825397491455, 1.0844112634658813, 0.9232558012008667, 0.917036235332489, 0.007832616567611694, 0.8172394037246704, 0.319925457239151, 1.1240696907043457, 1.1338692903518677, 1.0150426626205444, 1.075252890586853, 0.5169728994369507, 1.5933810472488403, 1.1411411762237549, 0.7118775844573975, 1.1318063735961914, 0.45919522643089294, 0.8776296973228455, 0.44713425636291504, 0.6686798334121704, 1.379544973373413, 0.28060436248779297, 1.2667827606201172, 0.09823934733867645, 1.1192704439163208, 1.283524751663208, 0.3451787531375885, 0.6086553335189819, 1.231612205505371, 1.2734297513961792, 1.7452903985977173, 0.942372739315033, 0.8281335234642029, 0.14910253882408142, 0.36210906505584717, 1.3444581031799316, 1.0004656314849854, 0.743009090423584, 1.1674758195877075, 1.3265750408172607, 1.3074231147766113, 1.528579831123352, 0.8920028805732727, 0.7083190679550171, 1.1014492511749268, 0.8313417434692383, 0.8993497490882874, 0.17347270250320435, 0.6125270128250122, 0.6941515803337097, 0.43352171778678894, 0.24656982719898224, 0.8790605664253235, 1.5386874675750732, 1.1514251232147217, 1.1862919330596924, 0.9144876003265381, 0.583189070224762, 0.15912127494812012, 1.7260714769363403, 0.8837480545043945, 0.5252649784088135, 0.24635371565818787, 0.2882528603076935, 0.3854663074016571, 1.1831228733062744, 0.33964887261390686, 1.0059725046157837, 1.4848005771636963, 0.2534574866294861, 1.2159454822540283, 0.8983659744262695, 1.1164523363113403, 1.1091387271881104, 0.6838500499725342, 1.3364263772964478, 0.9655663371086121, 0.7942858934402466, 0.9754635691642761, 0.6883689761161804, 1.1176115274429321, 0.8479028940200806, 0.9716475605964661, 0.398505300283432, 1.2740929126739502, 0.46303701400756836, 0.8398715257644653, 1.3127758502960205, 1.1957210302352905, 0.9704887270927429, 1.1740217208862305, 1.493048906326294, 1.5236752033233643, 1.0604493618011475, 0.8753646016120911, 0.6680769920349121, 1.0008103847503662, 0.1028023436665535, 1.4528322219848633, 1.0207476615905762, 0.8598912954330444, 0.8844686150550842, 1.2167454957962036, 0.9727328419685364, 0.880194902420044, 1.2905559539794922, 0.9291343688964844, 1.0819799900054932, 1.1490081548690796, 1.1062461137771606, 1.023840069770813, 0.8676578402519226, 1.0079307556152344, 0.948453962802887, 1.1700770854949951, 0.6906225085258484, 1.1176544427871704, 1.4047062397003174, 0.3614214062690735, 1.4487239122390747, 0.5810970067977905, 1.6530817747116089, 1.0740717649459839, 1.387152075767517, 0.29972800612449646, 1.1769169569015503, 1.1414988040924072, 0.7534224390983582, 0.542667806148529, 1.3406823873519897, 1.1476616859436035, 1.3479859828948975, 1.677565336227417, 1.6662718057632446, 0.47889694571495056, 0.9401214122772217, 0.3893436789512634, 1.2765960693359375, 1.3211894035339355, 1.3504960536956787, 0.5784447193145752, 0.8472095131874084, 1.5487760305404663, 0.5490307211875916, 1.642456293106079, 0.5422319173812866, 1.2263643741607666, 0.44147026538848877, 0.35518160462379456, 1.4061546325683594, 1.0342047214508057, 0.83431476354599, 1.7373228073120117, 1.0217217206954956, 0.5243228077888489, 1.0512830018997192, 1.735410451889038, 0.8898805379867554, 1.3160456418991089, 0.7630822062492371, 0.8223799467086792, 0.05679703503847122, 0.668209433555603, 0.5545979738235474, 1.1938691139221191, 0.5970531105995178, 1.1217055320739746, 1.0699023008346558, 0.6676769852638245, 1.2091561555862427, 1.7722361087799072, 0.5144281983375549, 0.5578140616416931, 1.0443305969238281, 1.0400339365005493, 1.296921968460083, 1.3277407884597778, 1.4960863590240479, 0.4564577341079712, 1.146207332611084, 1.1471294164657593, 1.340867042541504, 0.48745444416999817, 1.4306492805480957, 1.144139051437378, 0.2804940938949585, 1.1793303489685059, 1.3192012310028076, 1.680990219116211, 0.7449465990066528, 0.5993530750274658, 1.1891019344329834, 0.9328095316886902, 0.11454557627439499, 1.3455208539962769, 1.1842089891433716, 0.8182002305984497, 1.00888991355896, 0.7405056357383728, 0.6515181660652161, 0.18566104769706726, 0.08928664773702621, 0.14261995255947113, 0.8061973452568054, 0.30573606491088867, 0.9796655178070068, 0.4436248540878296, 1.4199588298797607, 1.158575415611267, 1.3336760997772217, 0.7518613338470459, 0.6491930484771729, 0.5405561923980713, 1.1918604373931885]\n"
     ]
    },
    {
     "ename": "TypeError",
     "evalue": "Timestamp('2020-01-03 00:00:00', freq='W-FRI') is not a string",
     "output_type": "error",
     "traceback": [
      "\u001b[0;31m---------------------------------------------------------------------------\u001b[0m",
      "\u001b[0;31mTypeError\u001b[0m                                 Traceback (most recent call last)",
      "\u001b[0;32m<ipython-input-19-8331635bc149>\u001b[0m in \u001b[0;36m<module>\u001b[0;34m\u001b[0m\n\u001b[1;32m     10\u001b[0m \u001b[0;31m# Plotting\u001b[0m\u001b[0;34m\u001b[0m\u001b[0;34m\u001b[0m\u001b[0;34m\u001b[0m\u001b[0m\n\u001b[1;32m     11\u001b[0m \u001b[0mplt\u001b[0m\u001b[0;34m.\u001b[0m\u001b[0mfigure\u001b[0m\u001b[0;34m(\u001b[0m\u001b[0mfigsize\u001b[0m\u001b[0;34m=\u001b[0m\u001b[0;34m(\u001b[0m\u001b[0;36m16\u001b[0m\u001b[0;34m,\u001b[0m\u001b[0;36m6\u001b[0m\u001b[0;34m)\u001b[0m\u001b[0;34m)\u001b[0m\u001b[0;34m\u001b[0m\u001b[0;34m\u001b[0m\u001b[0m\n\u001b[0;32m---> 12\u001b[0;31m \u001b[0mplt\u001b[0m\u001b[0;34m.\u001b[0m\u001b[0mplot\u001b[0m\u001b[0;34m(\u001b[0m\u001b[0mdf\u001b[0m\u001b[0;34m.\u001b[0m\u001b[0mClose\u001b[0m\u001b[0;34m.\u001b[0m\u001b[0mtail\u001b[0m\u001b[0;34m(\u001b[0m\u001b[0mpers\u001b[0m\u001b[0;34m)\u001b[0m\u001b[0;34m.\u001b[0m\u001b[0mappend\u001b[0m\u001b[0;34m(\u001b[0m\u001b[0mpreds\u001b[0m\u001b[0;34m.\u001b[0m\u001b[0mhead\u001b[0m\u001b[0;34m(\u001b[0m\u001b[0;36m1\u001b[0m\u001b[0;34m)\u001b[0m\u001b[0;34m)\u001b[0m\u001b[0;34m,\u001b[0m \u001b[0mlabel\u001b[0m\u001b[0;34m=\u001b[0m\u001b[0;34m\"Actual Prices\"\u001b[0m\u001b[0;34m)\u001b[0m\u001b[0;34m\u001b[0m\u001b[0;34m\u001b[0m\u001b[0m\n\u001b[0m\u001b[1;32m     13\u001b[0m \u001b[0mplt\u001b[0m\u001b[0;34m.\u001b[0m\u001b[0mplot\u001b[0m\u001b[0;34m(\u001b[0m\u001b[0mpreds\u001b[0m\u001b[0;34m,\u001b[0m \u001b[0mlabel\u001b[0m\u001b[0;34m=\u001b[0m\u001b[0;34m\"Predicted Prices\"\u001b[0m\u001b[0;34m)\u001b[0m\u001b[0;34m\u001b[0m\u001b[0;34m\u001b[0m\u001b[0m\n\u001b[1;32m     14\u001b[0m \u001b[0mplt\u001b[0m\u001b[0;34m.\u001b[0m\u001b[0mylabel\u001b[0m\u001b[0;34m(\u001b[0m\u001b[0;34m\"Price\"\u001b[0m\u001b[0;34m)\u001b[0m\u001b[0;34m\u001b[0m\u001b[0;34m\u001b[0m\u001b[0m\n",
      "\u001b[0;32m~/opt/anaconda3/lib/python3.7/site-packages/matplotlib/pyplot.py\u001b[0m in \u001b[0;36mplot\u001b[0;34m(scalex, scaley, data, *args, **kwargs)\u001b[0m\n\u001b[1;32m   2793\u001b[0m     return gca().plot(\n\u001b[1;32m   2794\u001b[0m         *args, scalex=scalex, scaley=scaley, **({\"data\": data} if data\n\u001b[0;32m-> 2795\u001b[0;31m         is not None else {}), **kwargs)\n\u001b[0m\u001b[1;32m   2796\u001b[0m \u001b[0;34m\u001b[0m\u001b[0m\n\u001b[1;32m   2797\u001b[0m \u001b[0;34m\u001b[0m\u001b[0m\n",
      "\u001b[0;32m~/opt/anaconda3/lib/python3.7/site-packages/matplotlib/axes/_axes.py\u001b[0m in \u001b[0;36mplot\u001b[0;34m(self, scalex, scaley, data, *args, **kwargs)\u001b[0m\n\u001b[1;32m   1664\u001b[0m         \"\"\"\n\u001b[1;32m   1665\u001b[0m         \u001b[0mkwargs\u001b[0m \u001b[0;34m=\u001b[0m \u001b[0mcbook\u001b[0m\u001b[0;34m.\u001b[0m\u001b[0mnormalize_kwargs\u001b[0m\u001b[0;34m(\u001b[0m\u001b[0mkwargs\u001b[0m\u001b[0;34m,\u001b[0m \u001b[0mmlines\u001b[0m\u001b[0;34m.\u001b[0m\u001b[0mLine2D\u001b[0m\u001b[0;34m.\u001b[0m\u001b[0m_alias_map\u001b[0m\u001b[0;34m)\u001b[0m\u001b[0;34m\u001b[0m\u001b[0;34m\u001b[0m\u001b[0m\n\u001b[0;32m-> 1666\u001b[0;31m         \u001b[0mlines\u001b[0m \u001b[0;34m=\u001b[0m \u001b[0;34m[\u001b[0m\u001b[0;34m*\u001b[0m\u001b[0mself\u001b[0m\u001b[0;34m.\u001b[0m\u001b[0m_get_lines\u001b[0m\u001b[0;34m(\u001b[0m\u001b[0;34m*\u001b[0m\u001b[0margs\u001b[0m\u001b[0;34m,\u001b[0m \u001b[0mdata\u001b[0m\u001b[0;34m=\u001b[0m\u001b[0mdata\u001b[0m\u001b[0;34m,\u001b[0m \u001b[0;34m**\u001b[0m\u001b[0mkwargs\u001b[0m\u001b[0;34m)\u001b[0m\u001b[0;34m]\u001b[0m\u001b[0;34m\u001b[0m\u001b[0;34m\u001b[0m\u001b[0m\n\u001b[0m\u001b[1;32m   1667\u001b[0m         \u001b[0;32mfor\u001b[0m \u001b[0mline\u001b[0m \u001b[0;32min\u001b[0m \u001b[0mlines\u001b[0m\u001b[0;34m:\u001b[0m\u001b[0;34m\u001b[0m\u001b[0;34m\u001b[0m\u001b[0m\n\u001b[1;32m   1668\u001b[0m             \u001b[0mself\u001b[0m\u001b[0;34m.\u001b[0m\u001b[0madd_line\u001b[0m\u001b[0;34m(\u001b[0m\u001b[0mline\u001b[0m\u001b[0;34m)\u001b[0m\u001b[0;34m\u001b[0m\u001b[0;34m\u001b[0m\u001b[0m\n",
      "\u001b[0;32m~/opt/anaconda3/lib/python3.7/site-packages/matplotlib/axes/_base.py\u001b[0m in \u001b[0;36m__call__\u001b[0;34m(self, *args, **kwargs)\u001b[0m\n\u001b[1;32m    223\u001b[0m                 \u001b[0mthis\u001b[0m \u001b[0;34m+=\u001b[0m \u001b[0margs\u001b[0m\u001b[0;34m[\u001b[0m\u001b[0;36m0\u001b[0m\u001b[0;34m]\u001b[0m\u001b[0;34m,\u001b[0m\u001b[0;34m\u001b[0m\u001b[0;34m\u001b[0m\u001b[0m\n\u001b[1;32m    224\u001b[0m                 \u001b[0margs\u001b[0m \u001b[0;34m=\u001b[0m \u001b[0margs\u001b[0m\u001b[0;34m[\u001b[0m\u001b[0;36m1\u001b[0m\u001b[0;34m:\u001b[0m\u001b[0;34m]\u001b[0m\u001b[0;34m\u001b[0m\u001b[0;34m\u001b[0m\u001b[0m\n\u001b[0;32m--> 225\u001b[0;31m             \u001b[0;32myield\u001b[0m \u001b[0;32mfrom\u001b[0m \u001b[0mself\u001b[0m\u001b[0;34m.\u001b[0m\u001b[0m_plot_args\u001b[0m\u001b[0;34m(\u001b[0m\u001b[0mthis\u001b[0m\u001b[0;34m,\u001b[0m \u001b[0mkwargs\u001b[0m\u001b[0;34m)\u001b[0m\u001b[0;34m\u001b[0m\u001b[0;34m\u001b[0m\u001b[0m\n\u001b[0m\u001b[1;32m    226\u001b[0m \u001b[0;34m\u001b[0m\u001b[0m\n\u001b[1;32m    227\u001b[0m     \u001b[0;32mdef\u001b[0m \u001b[0mget_next_color\u001b[0m\u001b[0;34m(\u001b[0m\u001b[0mself\u001b[0m\u001b[0;34m)\u001b[0m\u001b[0;34m:\u001b[0m\u001b[0;34m\u001b[0m\u001b[0;34m\u001b[0m\u001b[0m\n",
      "\u001b[0;32m~/opt/anaconda3/lib/python3.7/site-packages/matplotlib/axes/_base.py\u001b[0m in \u001b[0;36m_plot_args\u001b[0;34m(self, tup, kwargs)\u001b[0m\n\u001b[1;32m    389\u001b[0m             \u001b[0mx\u001b[0m\u001b[0;34m,\u001b[0m \u001b[0my\u001b[0m \u001b[0;34m=\u001b[0m \u001b[0mindex_of\u001b[0m\u001b[0;34m(\u001b[0m\u001b[0mtup\u001b[0m\u001b[0;34m[\u001b[0m\u001b[0;34m-\u001b[0m\u001b[0;36m1\u001b[0m\u001b[0;34m]\u001b[0m\u001b[0;34m)\u001b[0m\u001b[0;34m\u001b[0m\u001b[0;34m\u001b[0m\u001b[0m\n\u001b[1;32m    390\u001b[0m \u001b[0;34m\u001b[0m\u001b[0m\n\u001b[0;32m--> 391\u001b[0;31m         \u001b[0mx\u001b[0m\u001b[0;34m,\u001b[0m \u001b[0my\u001b[0m \u001b[0;34m=\u001b[0m \u001b[0mself\u001b[0m\u001b[0;34m.\u001b[0m\u001b[0m_xy_from_xy\u001b[0m\u001b[0;34m(\u001b[0m\u001b[0mx\u001b[0m\u001b[0;34m,\u001b[0m \u001b[0my\u001b[0m\u001b[0;34m)\u001b[0m\u001b[0;34m\u001b[0m\u001b[0;34m\u001b[0m\u001b[0m\n\u001b[0m\u001b[1;32m    392\u001b[0m \u001b[0;34m\u001b[0m\u001b[0m\n\u001b[1;32m    393\u001b[0m         \u001b[0;32mif\u001b[0m \u001b[0mself\u001b[0m\u001b[0;34m.\u001b[0m\u001b[0mcommand\u001b[0m \u001b[0;34m==\u001b[0m \u001b[0;34m'plot'\u001b[0m\u001b[0;34m:\u001b[0m\u001b[0;34m\u001b[0m\u001b[0;34m\u001b[0m\u001b[0m\n",
      "\u001b[0;32m~/opt/anaconda3/lib/python3.7/site-packages/matplotlib/axes/_base.py\u001b[0m in \u001b[0;36m_xy_from_xy\u001b[0;34m(self, x, y)\u001b[0m\n\u001b[1;32m    241\u001b[0m     \u001b[0;32mdef\u001b[0m \u001b[0m_xy_from_xy\u001b[0m\u001b[0;34m(\u001b[0m\u001b[0mself\u001b[0m\u001b[0;34m,\u001b[0m \u001b[0mx\u001b[0m\u001b[0;34m,\u001b[0m \u001b[0my\u001b[0m\u001b[0;34m)\u001b[0m\u001b[0;34m:\u001b[0m\u001b[0;34m\u001b[0m\u001b[0;34m\u001b[0m\u001b[0m\n\u001b[1;32m    242\u001b[0m         \u001b[0;32mif\u001b[0m \u001b[0mself\u001b[0m\u001b[0;34m.\u001b[0m\u001b[0maxes\u001b[0m\u001b[0;34m.\u001b[0m\u001b[0mxaxis\u001b[0m \u001b[0;32mis\u001b[0m \u001b[0;32mnot\u001b[0m \u001b[0;32mNone\u001b[0m \u001b[0;32mand\u001b[0m \u001b[0mself\u001b[0m\u001b[0;34m.\u001b[0m\u001b[0maxes\u001b[0m\u001b[0;34m.\u001b[0m\u001b[0myaxis\u001b[0m \u001b[0;32mis\u001b[0m \u001b[0;32mnot\u001b[0m \u001b[0;32mNone\u001b[0m\u001b[0;34m:\u001b[0m\u001b[0;34m\u001b[0m\u001b[0;34m\u001b[0m\u001b[0m\n\u001b[0;32m--> 243\u001b[0;31m             \u001b[0mbx\u001b[0m \u001b[0;34m=\u001b[0m \u001b[0mself\u001b[0m\u001b[0;34m.\u001b[0m\u001b[0maxes\u001b[0m\u001b[0;34m.\u001b[0m\u001b[0mxaxis\u001b[0m\u001b[0;34m.\u001b[0m\u001b[0mupdate_units\u001b[0m\u001b[0;34m(\u001b[0m\u001b[0mx\u001b[0m\u001b[0;34m)\u001b[0m\u001b[0;34m\u001b[0m\u001b[0;34m\u001b[0m\u001b[0m\n\u001b[0m\u001b[1;32m    244\u001b[0m             \u001b[0mby\u001b[0m \u001b[0;34m=\u001b[0m \u001b[0mself\u001b[0m\u001b[0;34m.\u001b[0m\u001b[0maxes\u001b[0m\u001b[0;34m.\u001b[0m\u001b[0myaxis\u001b[0m\u001b[0;34m.\u001b[0m\u001b[0mupdate_units\u001b[0m\u001b[0;34m(\u001b[0m\u001b[0my\u001b[0m\u001b[0;34m)\u001b[0m\u001b[0;34m\u001b[0m\u001b[0;34m\u001b[0m\u001b[0m\n\u001b[1;32m    245\u001b[0m \u001b[0;34m\u001b[0m\u001b[0m\n",
      "\u001b[0;32m~/opt/anaconda3/lib/python3.7/site-packages/matplotlib/axis.py\u001b[0m in \u001b[0;36mupdate_units\u001b[0;34m(self, data)\u001b[0m\n\u001b[1;32m   1491\u001b[0m         \u001b[0mneednew\u001b[0m \u001b[0;34m=\u001b[0m \u001b[0mself\u001b[0m\u001b[0;34m.\u001b[0m\u001b[0mconverter\u001b[0m \u001b[0;34m!=\u001b[0m \u001b[0mconverter\u001b[0m\u001b[0;34m\u001b[0m\u001b[0;34m\u001b[0m\u001b[0m\n\u001b[1;32m   1492\u001b[0m         \u001b[0mself\u001b[0m\u001b[0;34m.\u001b[0m\u001b[0mconverter\u001b[0m \u001b[0;34m=\u001b[0m \u001b[0mconverter\u001b[0m\u001b[0;34m\u001b[0m\u001b[0;34m\u001b[0m\u001b[0m\n\u001b[0;32m-> 1493\u001b[0;31m         \u001b[0mdefault\u001b[0m \u001b[0;34m=\u001b[0m \u001b[0mself\u001b[0m\u001b[0;34m.\u001b[0m\u001b[0mconverter\u001b[0m\u001b[0;34m.\u001b[0m\u001b[0mdefault_units\u001b[0m\u001b[0;34m(\u001b[0m\u001b[0mdata\u001b[0m\u001b[0;34m,\u001b[0m \u001b[0mself\u001b[0m\u001b[0;34m)\u001b[0m\u001b[0;34m\u001b[0m\u001b[0;34m\u001b[0m\u001b[0m\n\u001b[0m\u001b[1;32m   1494\u001b[0m         \u001b[0;32mif\u001b[0m \u001b[0mdefault\u001b[0m \u001b[0;32mis\u001b[0m \u001b[0;32mnot\u001b[0m \u001b[0;32mNone\u001b[0m \u001b[0;32mand\u001b[0m \u001b[0mself\u001b[0m\u001b[0;34m.\u001b[0m\u001b[0munits\u001b[0m \u001b[0;32mis\u001b[0m \u001b[0;32mNone\u001b[0m\u001b[0;34m:\u001b[0m\u001b[0;34m\u001b[0m\u001b[0;34m\u001b[0m\u001b[0m\n\u001b[1;32m   1495\u001b[0m             \u001b[0mself\u001b[0m\u001b[0;34m.\u001b[0m\u001b[0mset_units\u001b[0m\u001b[0;34m(\u001b[0m\u001b[0mdefault\u001b[0m\u001b[0;34m)\u001b[0m\u001b[0;34m\u001b[0m\u001b[0;34m\u001b[0m\u001b[0m\n",
      "\u001b[0;32m~/opt/anaconda3/lib/python3.7/site-packages/matplotlib/category.py\u001b[0m in \u001b[0;36mdefault_units\u001b[0;34m(data, axis)\u001b[0m\n\u001b[1;32m    113\u001b[0m         \u001b[0;31m# default_units->axis_info->convert\u001b[0m\u001b[0;34m\u001b[0m\u001b[0;34m\u001b[0m\u001b[0;34m\u001b[0m\u001b[0m\n\u001b[1;32m    114\u001b[0m         \u001b[0;32mif\u001b[0m \u001b[0maxis\u001b[0m\u001b[0;34m.\u001b[0m\u001b[0munits\u001b[0m \u001b[0;32mis\u001b[0m \u001b[0;32mNone\u001b[0m\u001b[0;34m:\u001b[0m\u001b[0;34m\u001b[0m\u001b[0;34m\u001b[0m\u001b[0m\n\u001b[0;32m--> 115\u001b[0;31m             \u001b[0maxis\u001b[0m\u001b[0;34m.\u001b[0m\u001b[0mset_units\u001b[0m\u001b[0;34m(\u001b[0m\u001b[0mUnitData\u001b[0m\u001b[0;34m(\u001b[0m\u001b[0mdata\u001b[0m\u001b[0;34m)\u001b[0m\u001b[0;34m)\u001b[0m\u001b[0;34m\u001b[0m\u001b[0;34m\u001b[0m\u001b[0m\n\u001b[0m\u001b[1;32m    116\u001b[0m         \u001b[0;32melse\u001b[0m\u001b[0;34m:\u001b[0m\u001b[0;34m\u001b[0m\u001b[0;34m\u001b[0m\u001b[0m\n\u001b[1;32m    117\u001b[0m             \u001b[0maxis\u001b[0m\u001b[0;34m.\u001b[0m\u001b[0munits\u001b[0m\u001b[0;34m.\u001b[0m\u001b[0mupdate\u001b[0m\u001b[0;34m(\u001b[0m\u001b[0mdata\u001b[0m\u001b[0;34m)\u001b[0m\u001b[0;34m\u001b[0m\u001b[0;34m\u001b[0m\u001b[0m\n",
      "\u001b[0;32m~/opt/anaconda3/lib/python3.7/site-packages/matplotlib/category.py\u001b[0m in \u001b[0;36m__init__\u001b[0;34m(self, data)\u001b[0m\n\u001b[1;32m    179\u001b[0m         \u001b[0mself\u001b[0m\u001b[0;34m.\u001b[0m\u001b[0m_counter\u001b[0m \u001b[0;34m=\u001b[0m \u001b[0mitertools\u001b[0m\u001b[0;34m.\u001b[0m\u001b[0mcount\u001b[0m\u001b[0;34m(\u001b[0m\u001b[0;34m)\u001b[0m\u001b[0;34m\u001b[0m\u001b[0;34m\u001b[0m\u001b[0m\n\u001b[1;32m    180\u001b[0m         \u001b[0;32mif\u001b[0m \u001b[0mdata\u001b[0m \u001b[0;32mis\u001b[0m \u001b[0;32mnot\u001b[0m \u001b[0;32mNone\u001b[0m\u001b[0;34m:\u001b[0m\u001b[0;34m\u001b[0m\u001b[0;34m\u001b[0m\u001b[0m\n\u001b[0;32m--> 181\u001b[0;31m             \u001b[0mself\u001b[0m\u001b[0;34m.\u001b[0m\u001b[0mupdate\u001b[0m\u001b[0;34m(\u001b[0m\u001b[0mdata\u001b[0m\u001b[0;34m)\u001b[0m\u001b[0;34m\u001b[0m\u001b[0;34m\u001b[0m\u001b[0m\n\u001b[0m\u001b[1;32m    182\u001b[0m \u001b[0;34m\u001b[0m\u001b[0m\n\u001b[1;32m    183\u001b[0m     \u001b[0;34m@\u001b[0m\u001b[0mstaticmethod\u001b[0m\u001b[0;34m\u001b[0m\u001b[0;34m\u001b[0m\u001b[0m\n",
      "\u001b[0;32m~/opt/anaconda3/lib/python3.7/site-packages/matplotlib/category.py\u001b[0m in \u001b[0;36mupdate\u001b[0;34m(self, data)\u001b[0m\n\u001b[1;32m    216\u001b[0m             \u001b[0;31m# OrderedDict just iterates over unique values in data.\u001b[0m\u001b[0;34m\u001b[0m\u001b[0;34m\u001b[0m\u001b[0;34m\u001b[0m\u001b[0m\n\u001b[1;32m    217\u001b[0m             \u001b[0;32mif\u001b[0m \u001b[0;32mnot\u001b[0m \u001b[0misinstance\u001b[0m\u001b[0;34m(\u001b[0m\u001b[0mval\u001b[0m\u001b[0;34m,\u001b[0m \u001b[0;34m(\u001b[0m\u001b[0mstr\u001b[0m\u001b[0;34m,\u001b[0m \u001b[0mbytes\u001b[0m\u001b[0;34m)\u001b[0m\u001b[0;34m)\u001b[0m\u001b[0;34m:\u001b[0m\u001b[0;34m\u001b[0m\u001b[0;34m\u001b[0m\u001b[0m\n\u001b[0;32m--> 218\u001b[0;31m                 \u001b[0;32mraise\u001b[0m \u001b[0mTypeError\u001b[0m\u001b[0;34m(\u001b[0m\u001b[0;34m\"{val!r} is not a string\"\u001b[0m\u001b[0;34m.\u001b[0m\u001b[0mformat\u001b[0m\u001b[0;34m(\u001b[0m\u001b[0mval\u001b[0m\u001b[0;34m=\u001b[0m\u001b[0mval\u001b[0m\u001b[0;34m)\u001b[0m\u001b[0;34m)\u001b[0m\u001b[0;34m\u001b[0m\u001b[0;34m\u001b[0m\u001b[0m\n\u001b[0m\u001b[1;32m    219\u001b[0m             \u001b[0;32mif\u001b[0m \u001b[0mconvertible\u001b[0m\u001b[0;34m:\u001b[0m\u001b[0;34m\u001b[0m\u001b[0;34m\u001b[0m\u001b[0m\n\u001b[1;32m    220\u001b[0m                 \u001b[0;31m# this will only be called so long as convertible is True.\u001b[0m\u001b[0;34m\u001b[0m\u001b[0;34m\u001b[0m\u001b[0;34m\u001b[0m\u001b[0m\n",
      "\u001b[0;31mTypeError\u001b[0m: Timestamp('2020-01-03 00:00:00', freq='W-FRI') is not a string"
     ]
    },
    {
     "data": {
      "image/png": "[encoded data removed]",
      "text/plain": [
       "<Figure size 1152x432 with 1 Axes>"
      ]
     },
     "metadata": {
      "needs_background": "light"
     },
     "output_type": "display_data"
    }
   ],
   "source": [
    "yhat = model.predict(np.array(df.tail(n_per_in)).reshape(1, n_per_in, n_features)).tolist()[0]\n",
    "print(\"Predicted Prices:\\n\",yhat)\n",
    "\n",
    "# Creating a DF of the predicted prices\n",
    "preds = pd.DataFrame(yhat, index=pd.date_range(start=df.index[-1], periods=len(yhat), freq=\"1W-FRI\"))\n",
    "\n",
    "# Number of periods back to visualize the actual values\n",
    "pers = 730\n",
    "\n",
    "# Plotting\n",
    "plt.figure(figsize=(16,6))\n",
    "plt.plot(df.Close.tail(pers).append(preds.head(1)), label=\"Actual Prices\")\n",
    "plt.plot(preds, label=\"Predicted Prices\")\n",
    "plt.ylabel(\"Price\")\n",
    "plt.xlabel(\"Dates\")\n",
    "plt.title(f\"Forecasting the next {len(yhat)} weeks\")\n",
    "plt.legend()\n",
    "plt.show()"
   ]
  },
  {
   "cell_type": "code",
   "execution_count": null,
   "metadata": {},
   "outputs": [],
   "source": []
  }
 ],
 "metadata": {
  "kernelspec": {
   "display_name": "Python 3",
   "language": "python",
   "name": "python3"
  },
  "language_info": {
   "codemirror_mode": {
    "name": "ipython",
    "version": 3
   },
   "file_extension": ".py",
   "mimetype": "text/x-python",
   "name": "python",
   "nbconvert_exporter": "python",
   "pygments_lexer": "ipython3",
   "version": "3.7.4"
  }
 },
 "nbformat": 4,
 "nbformat_minor": 2
}
