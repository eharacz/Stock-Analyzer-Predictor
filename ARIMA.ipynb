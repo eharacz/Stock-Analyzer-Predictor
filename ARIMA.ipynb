{
 "cells": [
  {
   "cell_type": "code",
   "execution_count": 1,
   "metadata": {},
   "outputs": [],
   "source": [
    "import pandas as pd\n",
    "import numpy as np\n",
    "import datetime\n",
    "import matplotlib.pyplot as plt\n",
    "%matplotlib inline\n",
    "import json\n",
    "import requests\n",
    "import time\n",
    "import math"
   ]
  },
  {
   "cell_type": "code",
   "execution_count": 2,
   "metadata": {},
   "outputs": [],
   "source": [
    "master = pd.read_csv('master_timeseries.csv')"
   ]
  },
  {
   "cell_type": "code",
   "execution_count": 3,
   "metadata": {},
   "outputs": [],
   "source": [
    "master=master.rename(columns={'Unnamed: 0':'Date'})"
   ]
  },
  {
   "cell_type": "code",
   "execution_count": 4,
   "metadata": {},
   "outputs": [],
   "source": [
    "master=master.set_index('Date')"
   ]
  },
  {
   "cell_type": "code",
   "execution_count": 7,
   "metadata": {
    "collapsed": true
   },
   "outputs": [
    {
     "data": {
      "text/html": [
       "<div>\n",
       "<style scoped>\n",
       "    .dataframe tbody tr th:only-of-type {\n",
       "        vertical-align: middle;\n",
       "    }\n",
       "\n",
       "    .dataframe tbody tr th {\n",
       "        vertical-align: top;\n",
       "    }\n",
       "\n",
       "    .dataframe thead th {\n",
       "        text-align: right;\n",
       "    }\n",
       "</style>\n",
       "<table border=\"1\" class=\"dataframe\">\n",
       "  <thead>\n",
       "    <tr style=\"text-align: right;\">\n",
       "      <th></th>\n",
       "      <th>MMM</th>\n",
       "      <th>ABT</th>\n",
       "      <th>ABBV</th>\n",
       "      <th>ABMD</th>\n",
       "      <th>ACN</th>\n",
       "      <th>ATVI</th>\n",
       "      <th>ADBE</th>\n",
       "      <th>AMD</th>\n",
       "      <th>AAP</th>\n",
       "      <th>AES</th>\n",
       "      <th>...</th>\n",
       "      <th>WYNN</th>\n",
       "      <th>XEL</th>\n",
       "      <th>XRX</th>\n",
       "      <th>XLNX</th>\n",
       "      <th>XYL</th>\n",
       "      <th>YUM</th>\n",
       "      <th>ZBRA</th>\n",
       "      <th>ZBH</th>\n",
       "      <th>ZION</th>\n",
       "      <th>ZTS</th>\n",
       "    </tr>\n",
       "    <tr>\n",
       "      <th>Date</th>\n",
       "      <th></th>\n",
       "      <th></th>\n",
       "      <th></th>\n",
       "      <th></th>\n",
       "      <th></th>\n",
       "      <th></th>\n",
       "      <th></th>\n",
       "      <th></th>\n",
       "      <th></th>\n",
       "      <th></th>\n",
       "      <th></th>\n",
       "      <th></th>\n",
       "      <th></th>\n",
       "      <th></th>\n",
       "      <th></th>\n",
       "      <th></th>\n",
       "      <th></th>\n",
       "      <th></th>\n",
       "      <th></th>\n",
       "      <th></th>\n",
       "      <th></th>\n",
       "    </tr>\n",
       "  </thead>\n",
       "  <tbody>\n",
       "    <tr>\n",
       "      <td>2010-01-04</td>\n",
       "      <td>63.519070</td>\n",
       "      <td>18.229385</td>\n",
       "      <td>NaN</td>\n",
       "      <td>8.74</td>\n",
       "      <td>33.871223</td>\n",
       "      <td>10.193225</td>\n",
       "      <td>37.090000</td>\n",
       "      <td>9.70</td>\n",
       "      <td>39.404591</td>\n",
       "      <td>10.778428</td>\n",
       "      <td>...</td>\n",
       "      <td>42.315849</td>\n",
       "      <td>14.500958</td>\n",
       "      <td>19.541086</td>\n",
       "      <td>20.047621</td>\n",
       "      <td>NaN</td>\n",
       "      <td>19.480558</td>\n",
       "      <td>28.670000</td>\n",
       "      <td>55.943844</td>\n",
       "      <td>12.080154</td>\n",
       "      <td>NaN</td>\n",
       "    </tr>\n",
       "    <tr>\n",
       "      <td>2010-01-05</td>\n",
       "      <td>63.121239</td>\n",
       "      <td>18.082108</td>\n",
       "      <td>NaN</td>\n",
       "      <td>8.53</td>\n",
       "      <td>34.080551</td>\n",
       "      <td>10.211267</td>\n",
       "      <td>37.700001</td>\n",
       "      <td>9.71</td>\n",
       "      <td>39.170380</td>\n",
       "      <td>10.668042</td>\n",
       "      <td>...</td>\n",
       "      <td>44.889477</td>\n",
       "      <td>14.328979</td>\n",
       "      <td>19.563721</td>\n",
       "      <td>19.794851</td>\n",
       "      <td>NaN</td>\n",
       "      <td>19.413939</td>\n",
       "      <td>28.620001</td>\n",
       "      <td>57.714798</td>\n",
       "      <td>12.506084</td>\n",
       "      <td>NaN</td>\n",
       "    </tr>\n",
       "    <tr>\n",
       "      <td>2010-01-06</td>\n",
       "      <td>64.016403</td>\n",
       "      <td>18.182526</td>\n",
       "      <td>NaN</td>\n",
       "      <td>8.40</td>\n",
       "      <td>34.442860</td>\n",
       "      <td>10.157144</td>\n",
       "      <td>37.619999</td>\n",
       "      <td>9.57</td>\n",
       "      <td>39.511925</td>\n",
       "      <td>10.557658</td>\n",
       "      <td>...</td>\n",
       "      <td>44.300659</td>\n",
       "      <td>14.356496</td>\n",
       "      <td>19.382580</td>\n",
       "      <td>19.660570</td>\n",
       "      <td>NaN</td>\n",
       "      <td>19.275148</td>\n",
       "      <td>28.400000</td>\n",
       "      <td>57.696159</td>\n",
       "      <td>13.593570</td>\n",
       "      <td>NaN</td>\n",
       "    </tr>\n",
       "    <tr>\n",
       "      <td>2010-01-07</td>\n",
       "      <td>64.062294</td>\n",
       "      <td>18.333153</td>\n",
       "      <td>NaN</td>\n",
       "      <td>8.40</td>\n",
       "      <td>34.410656</td>\n",
       "      <td>9.913588</td>\n",
       "      <td>36.889999</td>\n",
       "      <td>9.47</td>\n",
       "      <td>39.502171</td>\n",
       "      <td>10.565544</td>\n",
       "      <td>...</td>\n",
       "      <td>45.246735</td>\n",
       "      <td>14.294587</td>\n",
       "      <td>19.473154</td>\n",
       "      <td>19.463099</td>\n",
       "      <td>NaN</td>\n",
       "      <td>19.269602</td>\n",
       "      <td>27.690001</td>\n",
       "      <td>59.019741</td>\n",
       "      <td>15.116047</td>\n",
       "      <td>NaN</td>\n",
       "    </tr>\n",
       "    <tr>\n",
       "      <td>2010-01-08</td>\n",
       "      <td>64.513718</td>\n",
       "      <td>18.426876</td>\n",
       "      <td>NaN</td>\n",
       "      <td>8.23</td>\n",
       "      <td>34.273785</td>\n",
       "      <td>9.832404</td>\n",
       "      <td>36.689999</td>\n",
       "      <td>9.43</td>\n",
       "      <td>39.658298</td>\n",
       "      <td>10.865160</td>\n",
       "      <td>...</td>\n",
       "      <td>44.922569</td>\n",
       "      <td>14.301464</td>\n",
       "      <td>19.405233</td>\n",
       "      <td>19.747461</td>\n",
       "      <td>NaN</td>\n",
       "      <td>19.275148</td>\n",
       "      <td>27.600000</td>\n",
       "      <td>57.780052</td>\n",
       "      <td>14.871366</td>\n",
       "      <td>NaN</td>\n",
       "    </tr>\n",
       "    <tr>\n",
       "      <td>2010-01-09</td>\n",
       "      <td>64.513718</td>\n",
       "      <td>18.426876</td>\n",
       "      <td>NaN</td>\n",
       "      <td>8.23</td>\n",
       "      <td>34.273785</td>\n",
       "      <td>9.832404</td>\n",
       "      <td>36.689999</td>\n",
       "      <td>9.43</td>\n",
       "      <td>39.658298</td>\n",
       "      <td>10.865160</td>\n",
       "      <td>...</td>\n",
       "      <td>44.922569</td>\n",
       "      <td>14.301464</td>\n",
       "      <td>19.405233</td>\n",
       "      <td>19.747461</td>\n",
       "      <td>NaN</td>\n",
       "      <td>19.275148</td>\n",
       "      <td>27.600000</td>\n",
       "      <td>57.780052</td>\n",
       "      <td>14.871366</td>\n",
       "      <td>NaN</td>\n",
       "    </tr>\n",
       "    <tr>\n",
       "      <td>2010-01-10</td>\n",
       "      <td>64.513718</td>\n",
       "      <td>18.426876</td>\n",
       "      <td>NaN</td>\n",
       "      <td>8.23</td>\n",
       "      <td>34.273785</td>\n",
       "      <td>9.832404</td>\n",
       "      <td>36.689999</td>\n",
       "      <td>9.43</td>\n",
       "      <td>39.658298</td>\n",
       "      <td>10.865160</td>\n",
       "      <td>...</td>\n",
       "      <td>44.922569</td>\n",
       "      <td>14.301464</td>\n",
       "      <td>19.405233</td>\n",
       "      <td>19.747461</td>\n",
       "      <td>NaN</td>\n",
       "      <td>19.275148</td>\n",
       "      <td>27.600000</td>\n",
       "      <td>57.780052</td>\n",
       "      <td>14.871366</td>\n",
       "      <td>NaN</td>\n",
       "    </tr>\n",
       "    <tr>\n",
       "      <td>2010-01-11</td>\n",
       "      <td>64.253555</td>\n",
       "      <td>18.520599</td>\n",
       "      <td>NaN</td>\n",
       "      <td>8.08</td>\n",
       "      <td>34.241585</td>\n",
       "      <td>9.823382</td>\n",
       "      <td>36.209999</td>\n",
       "      <td>9.14</td>\n",
       "      <td>39.267963</td>\n",
       "      <td>10.936126</td>\n",
       "      <td>...</td>\n",
       "      <td>44.776997</td>\n",
       "      <td>14.439042</td>\n",
       "      <td>19.880728</td>\n",
       "      <td>19.542082</td>\n",
       "      <td>NaN</td>\n",
       "      <td>19.608242</td>\n",
       "      <td>27.690001</td>\n",
       "      <td>59.057018</td>\n",
       "      <td>14.961988</td>\n",
       "      <td>NaN</td>\n",
       "    </tr>\n",
       "    <tr>\n",
       "      <td>2010-01-12</td>\n",
       "      <td>64.307144</td>\n",
       "      <td>18.467043</td>\n",
       "      <td>NaN</td>\n",
       "      <td>7.89</td>\n",
       "      <td>34.024197</td>\n",
       "      <td>9.715136</td>\n",
       "      <td>35.660000</td>\n",
       "      <td>8.65</td>\n",
       "      <td>38.584877</td>\n",
       "      <td>10.809969</td>\n",
       "      <td>...</td>\n",
       "      <td>44.975479</td>\n",
       "      <td>14.611020</td>\n",
       "      <td>20.039242</td>\n",
       "      <td>18.997053</td>\n",
       "      <td>NaN</td>\n",
       "      <td>19.980204</td>\n",
       "      <td>27.660000</td>\n",
       "      <td>57.919865</td>\n",
       "      <td>14.545118</td>\n",
       "      <td>NaN</td>\n",
       "    </tr>\n",
       "    <tr>\n",
       "      <td>2010-01-13</td>\n",
       "      <td>64.100533</td>\n",
       "      <td>18.791168</td>\n",
       "      <td>NaN</td>\n",
       "      <td>7.96</td>\n",
       "      <td>34.410656</td>\n",
       "      <td>9.841425</td>\n",
       "      <td>36.279999</td>\n",
       "      <td>9.15</td>\n",
       "      <td>39.121586</td>\n",
       "      <td>11.101705</td>\n",
       "      <td>...</td>\n",
       "      <td>45.914948</td>\n",
       "      <td>14.838025</td>\n",
       "      <td>20.265669</td>\n",
       "      <td>19.162941</td>\n",
       "      <td>NaN</td>\n",
       "      <td>20.087729</td>\n",
       "      <td>28.049999</td>\n",
       "      <td>58.302021</td>\n",
       "      <td>14.816995</td>\n",
       "      <td>NaN</td>\n",
       "    </tr>\n",
       "  </tbody>\n",
       "</table>\n",
       "<p>10 rows × 505 columns</p>\n",
       "</div>"
      ],
      "text/plain": [
       "                  MMM        ABT  ABBV  ABMD        ACN       ATVI       ADBE  \\\n",
       "Date                                                                            \n",
       "2010-01-04  63.519070  18.229385   NaN  8.74  33.871223  10.193225  37.090000   \n",
       "2010-01-05  63.121239  18.082108   NaN  8.53  34.080551  10.211267  37.700001   \n",
       "2010-01-06  64.016403  18.182526   NaN  8.40  34.442860  10.157144  37.619999   \n",
       "2010-01-07  64.062294  18.333153   NaN  8.40  34.410656   9.913588  36.889999   \n",
       "2010-01-08  64.513718  18.426876   NaN  8.23  34.273785   9.832404  36.689999   \n",
       "2010-01-09  64.513718  18.426876   NaN  8.23  34.273785   9.832404  36.689999   \n",
       "2010-01-10  64.513718  18.426876   NaN  8.23  34.273785   9.832404  36.689999   \n",
       "2010-01-11  64.253555  18.520599   NaN  8.08  34.241585   9.823382  36.209999   \n",
       "2010-01-12  64.307144  18.467043   NaN  7.89  34.024197   9.715136  35.660000   \n",
       "2010-01-13  64.100533  18.791168   NaN  7.96  34.410656   9.841425  36.279999   \n",
       "\n",
       "             AMD        AAP        AES  ...       WYNN        XEL        XRX  \\\n",
       "Date                                    ...                                    \n",
       "2010-01-04  9.70  39.404591  10.778428  ...  42.315849  14.500958  19.541086   \n",
       "2010-01-05  9.71  39.170380  10.668042  ...  44.889477  14.328979  19.563721   \n",
       "2010-01-06  9.57  39.511925  10.557658  ...  44.300659  14.356496  19.382580   \n",
       "2010-01-07  9.47  39.502171  10.565544  ...  45.246735  14.294587  19.473154   \n",
       "2010-01-08  9.43  39.658298  10.865160  ...  44.922569  14.301464  19.405233   \n",
       "2010-01-09  9.43  39.658298  10.865160  ...  44.922569  14.301464  19.405233   \n",
       "2010-01-10  9.43  39.658298  10.865160  ...  44.922569  14.301464  19.405233   \n",
       "2010-01-11  9.14  39.267963  10.936126  ...  44.776997  14.439042  19.880728   \n",
       "2010-01-12  8.65  38.584877  10.809969  ...  44.975479  14.611020  20.039242   \n",
       "2010-01-13  9.15  39.121586  11.101705  ...  45.914948  14.838025  20.265669   \n",
       "\n",
       "                 XLNX  XYL        YUM       ZBRA        ZBH       ZION  ZTS  \n",
       "Date                                                                         \n",
       "2010-01-04  20.047621  NaN  19.480558  28.670000  55.943844  12.080154  NaN  \n",
       "2010-01-05  19.794851  NaN  19.413939  28.620001  57.714798  12.506084  NaN  \n",
       "2010-01-06  19.660570  NaN  19.275148  28.400000  57.696159  13.593570  NaN  \n",
       "2010-01-07  19.463099  NaN  19.269602  27.690001  59.019741  15.116047  NaN  \n",
       "2010-01-08  19.747461  NaN  19.275148  27.600000  57.780052  14.871366  NaN  \n",
       "2010-01-09  19.747461  NaN  19.275148  27.600000  57.780052  14.871366  NaN  \n",
       "2010-01-10  19.747461  NaN  19.275148  27.600000  57.780052  14.871366  NaN  \n",
       "2010-01-11  19.542082  NaN  19.608242  27.690001  59.057018  14.961988  NaN  \n",
       "2010-01-12  18.997053  NaN  19.980204  27.660000  57.919865  14.545118  NaN  \n",
       "2010-01-13  19.162941  NaN  20.087729  28.049999  58.302021  14.816995  NaN  \n",
       "\n",
       "[10 rows x 505 columns]"
      ]
     },
     "execution_count": 7,
     "metadata": {},
     "output_type": "execute_result"
    }
   ],
   "source": [
    "master.head(10)"
   ]
  },
  {
   "cell_type": "markdown",
   "metadata": {},
   "source": [
    "# ------------"
   ]
  },
  {
   "cell_type": "code",
   "execution_count": 8,
   "metadata": {},
   "outputs": [],
   "source": [
    "ret_master = master.pct_change()"
   ]
  },
  {
   "cell_type": "code",
   "execution_count": 9,
   "metadata": {
    "collapsed": true
   },
   "outputs": [
    {
     "data": {
      "text/html": [
       "<div>\n",
       "<style scoped>\n",
       "    .dataframe tbody tr th:only-of-type {\n",
       "        vertical-align: middle;\n",
       "    }\n",
       "\n",
       "    .dataframe tbody tr th {\n",
       "        vertical-align: top;\n",
       "    }\n",
       "\n",
       "    .dataframe thead th {\n",
       "        text-align: right;\n",
       "    }\n",
       "</style>\n",
       "<table border=\"1\" class=\"dataframe\">\n",
       "  <thead>\n",
       "    <tr style=\"text-align: right;\">\n",
       "      <th></th>\n",
       "      <th>MMM</th>\n",
       "      <th>ABT</th>\n",
       "      <th>ABBV</th>\n",
       "      <th>ABMD</th>\n",
       "      <th>ACN</th>\n",
       "      <th>ATVI</th>\n",
       "      <th>ADBE</th>\n",
       "      <th>AMD</th>\n",
       "      <th>AAP</th>\n",
       "      <th>AES</th>\n",
       "      <th>...</th>\n",
       "      <th>WYNN</th>\n",
       "      <th>XEL</th>\n",
       "      <th>XRX</th>\n",
       "      <th>XLNX</th>\n",
       "      <th>XYL</th>\n",
       "      <th>YUM</th>\n",
       "      <th>ZBRA</th>\n",
       "      <th>ZBH</th>\n",
       "      <th>ZION</th>\n",
       "      <th>ZTS</th>\n",
       "    </tr>\n",
       "    <tr>\n",
       "      <th>Date</th>\n",
       "      <th></th>\n",
       "      <th></th>\n",
       "      <th></th>\n",
       "      <th></th>\n",
       "      <th></th>\n",
       "      <th></th>\n",
       "      <th></th>\n",
       "      <th></th>\n",
       "      <th></th>\n",
       "      <th></th>\n",
       "      <th></th>\n",
       "      <th></th>\n",
       "      <th></th>\n",
       "      <th></th>\n",
       "      <th></th>\n",
       "      <th></th>\n",
       "      <th></th>\n",
       "      <th></th>\n",
       "      <th></th>\n",
       "      <th></th>\n",
       "      <th></th>\n",
       "    </tr>\n",
       "  </thead>\n",
       "  <tbody>\n",
       "    <tr>\n",
       "      <td>2010-01-04</td>\n",
       "      <td>NaN</td>\n",
       "      <td>NaN</td>\n",
       "      <td>NaN</td>\n",
       "      <td>NaN</td>\n",
       "      <td>NaN</td>\n",
       "      <td>NaN</td>\n",
       "      <td>NaN</td>\n",
       "      <td>NaN</td>\n",
       "      <td>NaN</td>\n",
       "      <td>NaN</td>\n",
       "      <td>...</td>\n",
       "      <td>NaN</td>\n",
       "      <td>NaN</td>\n",
       "      <td>NaN</td>\n",
       "      <td>NaN</td>\n",
       "      <td>NaN</td>\n",
       "      <td>NaN</td>\n",
       "      <td>NaN</td>\n",
       "      <td>NaN</td>\n",
       "      <td>NaN</td>\n",
       "      <td>NaN</td>\n",
       "    </tr>\n",
       "    <tr>\n",
       "      <td>2010-01-05</td>\n",
       "      <td>-0.006263</td>\n",
       "      <td>-0.008079</td>\n",
       "      <td>NaN</td>\n",
       "      <td>-0.024027</td>\n",
       "      <td>0.006180</td>\n",
       "      <td>0.001770</td>\n",
       "      <td>0.016446</td>\n",
       "      <td>0.001031</td>\n",
       "      <td>-0.005944</td>\n",
       "      <td>-0.010241</td>\n",
       "      <td>...</td>\n",
       "      <td>0.060819</td>\n",
       "      <td>-0.011860</td>\n",
       "      <td>0.001158</td>\n",
       "      <td>-0.012608</td>\n",
       "      <td>NaN</td>\n",
       "      <td>-0.003420</td>\n",
       "      <td>-0.001744</td>\n",
       "      <td>0.031656</td>\n",
       "      <td>0.035259</td>\n",
       "      <td>NaN</td>\n",
       "    </tr>\n",
       "    <tr>\n",
       "      <td>2010-01-06</td>\n",
       "      <td>0.014182</td>\n",
       "      <td>0.005553</td>\n",
       "      <td>NaN</td>\n",
       "      <td>-0.015240</td>\n",
       "      <td>0.010631</td>\n",
       "      <td>-0.005300</td>\n",
       "      <td>-0.002122</td>\n",
       "      <td>-0.014418</td>\n",
       "      <td>0.008719</td>\n",
       "      <td>-0.010347</td>\n",
       "      <td>...</td>\n",
       "      <td>-0.013117</td>\n",
       "      <td>0.001920</td>\n",
       "      <td>-0.009259</td>\n",
       "      <td>-0.006784</td>\n",
       "      <td>NaN</td>\n",
       "      <td>-0.007149</td>\n",
       "      <td>-0.007687</td>\n",
       "      <td>-0.000323</td>\n",
       "      <td>0.086956</td>\n",
       "      <td>NaN</td>\n",
       "    </tr>\n",
       "    <tr>\n",
       "      <td>2010-01-07</td>\n",
       "      <td>0.000717</td>\n",
       "      <td>0.008284</td>\n",
       "      <td>NaN</td>\n",
       "      <td>0.000000</td>\n",
       "      <td>-0.000935</td>\n",
       "      <td>-0.023979</td>\n",
       "      <td>-0.019405</td>\n",
       "      <td>-0.010449</td>\n",
       "      <td>-0.000247</td>\n",
       "      <td>0.000747</td>\n",
       "      <td>...</td>\n",
       "      <td>0.021356</td>\n",
       "      <td>-0.004312</td>\n",
       "      <td>0.004673</td>\n",
       "      <td>-0.010044</td>\n",
       "      <td>NaN</td>\n",
       "      <td>-0.000288</td>\n",
       "      <td>-0.025000</td>\n",
       "      <td>0.022941</td>\n",
       "      <td>0.112000</td>\n",
       "      <td>NaN</td>\n",
       "    </tr>\n",
       "    <tr>\n",
       "      <td>2010-01-08</td>\n",
       "      <td>0.007047</td>\n",
       "      <td>0.005112</td>\n",
       "      <td>NaN</td>\n",
       "      <td>-0.020238</td>\n",
       "      <td>-0.003978</td>\n",
       "      <td>-0.008189</td>\n",
       "      <td>-0.005422</td>\n",
       "      <td>-0.004224</td>\n",
       "      <td>0.003952</td>\n",
       "      <td>0.028358</td>\n",
       "      <td>...</td>\n",
       "      <td>-0.007164</td>\n",
       "      <td>0.000481</td>\n",
       "      <td>-0.003488</td>\n",
       "      <td>0.014610</td>\n",
       "      <td>NaN</td>\n",
       "      <td>0.000288</td>\n",
       "      <td>-0.003250</td>\n",
       "      <td>-0.021005</td>\n",
       "      <td>-0.016187</td>\n",
       "      <td>NaN</td>\n",
       "    </tr>\n",
       "  </tbody>\n",
       "</table>\n",
       "<p>5 rows × 505 columns</p>\n",
       "</div>"
      ],
      "text/plain": [
       "                 MMM       ABT  ABBV      ABMD       ACN      ATVI      ADBE  \\\n",
       "Date                                                                           \n",
       "2010-01-04       NaN       NaN   NaN       NaN       NaN       NaN       NaN   \n",
       "2010-01-05 -0.006263 -0.008079   NaN -0.024027  0.006180  0.001770  0.016446   \n",
       "2010-01-06  0.014182  0.005553   NaN -0.015240  0.010631 -0.005300 -0.002122   \n",
       "2010-01-07  0.000717  0.008284   NaN  0.000000 -0.000935 -0.023979 -0.019405   \n",
       "2010-01-08  0.007047  0.005112   NaN -0.020238 -0.003978 -0.008189 -0.005422   \n",
       "\n",
       "                 AMD       AAP       AES  ...      WYNN       XEL       XRX  \\\n",
       "Date                                      ...                                 \n",
       "2010-01-04       NaN       NaN       NaN  ...       NaN       NaN       NaN   \n",
       "2010-01-05  0.001031 -0.005944 -0.010241  ...  0.060819 -0.011860  0.001158   \n",
       "2010-01-06 -0.014418  0.008719 -0.010347  ... -0.013117  0.001920 -0.009259   \n",
       "2010-01-07 -0.010449 -0.000247  0.000747  ...  0.021356 -0.004312  0.004673   \n",
       "2010-01-08 -0.004224  0.003952  0.028358  ... -0.007164  0.000481 -0.003488   \n",
       "\n",
       "                XLNX  XYL       YUM      ZBRA       ZBH      ZION  ZTS  \n",
       "Date                                                                    \n",
       "2010-01-04       NaN  NaN       NaN       NaN       NaN       NaN  NaN  \n",
       "2010-01-05 -0.012608  NaN -0.003420 -0.001744  0.031656  0.035259  NaN  \n",
       "2010-01-06 -0.006784  NaN -0.007149 -0.007687 -0.000323  0.086956  NaN  \n",
       "2010-01-07 -0.010044  NaN -0.000288 -0.025000  0.022941  0.112000  NaN  \n",
       "2010-01-08  0.014610  NaN  0.000288 -0.003250 -0.021005 -0.016187  NaN  \n",
       "\n",
       "[5 rows x 505 columns]"
      ]
     },
     "execution_count": 9,
     "metadata": {},
     "output_type": "execute_result"
    }
   ],
   "source": [
    "ret_master.head()"
   ]
  },
  {
   "cell_type": "code",
   "execution_count": null,
   "metadata": {},
   "outputs": [],
   "source": []
  },
  {
   "cell_type": "markdown",
   "metadata": {},
   "source": [
    "master = actual price"
   ]
  },
  {
   "cell_type": "markdown",
   "metadata": {},
   "source": [
    "ret_master = % change in price"
   ]
  },
  {
   "cell_type": "code",
   "execution_count": 42,
   "metadata": {
    "scrolled": false
   },
   "outputs": [
    {
     "data": {
      "text/plain": [
       "Text(0, 0.5, 'Risk')"
      ]
     },
     "execution_count": 42,
     "metadata": {},
     "output_type": "execute_result"
    },
    {
     "data": {
      "image/png": "[encoded data removed]",
      "text/plain": [
       "<Figure size 1080x720 with 1 Axes>"
      ]
     },
     "metadata": {
      "needs_background": "light"
     },
     "output_type": "display_data"
    }
   ],
   "source": [
    "fig, ax = plt.subplots(figsize = (15,10))\n",
    "\n",
    "plt.scatter(ret_master.mean(), ret_master.std())\n",
    "plt.xlabel('Expected returns')\n",
    "plt.ylabel('Risk')\n",
    "# for label, x, y in zip(ret_master.columns, ret_master.mean(), ret_master.std()):\n",
    "#     plt.annotate(\n",
    "#         label, \n",
    "#         xy = (x, y), xytext = (20, -20),\n",
    "#         textcoords = 'offset points', ha = 'right', va = 'bottom',\n",
    "#         bbox = dict(boxstyle = 'round,pad=0.5', fc = 'yellow', alpha = 0.5),\n",
    "#         arrowprops = dict(arrowstyle = '->', connectionstyle = 'arc3,rad=0'))"
   ]
  },
  {
   "cell_type": "markdown",
   "metadata": {},
   "source": [
    "# Creating Univariate DF (Microsoft)"
   ]
  },
  {
   "cell_type": "code",
   "execution_count": 5,
   "metadata": {},
   "outputs": [],
   "source": [
    "msft_df=pd.DataFrame(master['MSFT'])"
   ]
  },
  {
   "cell_type": "code",
   "execution_count": 13,
   "metadata": {},
   "outputs": [
    {
     "data": {
      "text/plain": [
       "Text(0.5, 1.0, 'Microsoft Adjusted Price')"
      ]
     },
     "execution_count": 13,
     "metadata": {},
     "output_type": "execute_result"
    },
    {
     "data": {
      "image/png": "[encoded data removed]",
      "text/plain": [
       "<Figure size 864x720 with 1 Axes>"
      ]
     },
     "metadata": {
      "needs_background": "light"
     },
     "output_type": "display_data"
    }
   ],
   "source": [
    "#plot of data to see visualize trends\n",
    "msft_df.plot(figsize = [12,10])\n",
    "plt.title('Microsoft Adjusted Price')"
   ]
  },
  {
   "cell_type": "markdown",
   "metadata": {},
   "source": [
    "# ARIMA"
   ]
  },
  {
   "cell_type": "markdown",
   "metadata": {},
   "source": [
    "###### Log transform to deal with unequal variance"
   ]
  },
  {
   "cell_type": "code",
   "execution_count": 28,
   "metadata": {},
   "outputs": [
    {
     "data": {
      "text/html": [
       "<div>\n",
       "<style scoped>\n",
       "    .dataframe tbody tr th:only-of-type {\n",
       "        vertical-align: middle;\n",
       "    }\n",
       "\n",
       "    .dataframe tbody tr th {\n",
       "        vertical-align: top;\n",
       "    }\n",
       "\n",
       "    .dataframe thead th {\n",
       "        text-align: right;\n",
       "    }\n",
       "</style>\n",
       "<table border=\"1\" class=\"dataframe\">\n",
       "  <thead>\n",
       "    <tr style=\"text-align: right;\">\n",
       "      <th></th>\n",
       "      <th>MSFT</th>\n",
       "    </tr>\n",
       "    <tr>\n",
       "      <th>Date</th>\n",
       "      <th></th>\n",
       "    </tr>\n",
       "  </thead>\n",
       "  <tbody>\n",
       "    <tr>\n",
       "      <td>2010-01-04</td>\n",
       "      <td>24.294369</td>\n",
       "    </tr>\n",
       "    <tr>\n",
       "      <td>2010-01-05</td>\n",
       "      <td>24.302216</td>\n",
       "    </tr>\n",
       "    <tr>\n",
       "      <td>2010-01-06</td>\n",
       "      <td>24.153070</td>\n",
       "    </tr>\n",
       "    <tr>\n",
       "      <td>2010-01-07</td>\n",
       "      <td>23.901886</td>\n",
       "    </tr>\n",
       "    <tr>\n",
       "      <td>2010-01-08</td>\n",
       "      <td>24.066734</td>\n",
       "    </tr>\n",
       "  </tbody>\n",
       "</table>\n",
       "</div>"
      ],
      "text/plain": [
       "                 MSFT\n",
       "Date                 \n",
       "2010-01-04  24.294369\n",
       "2010-01-05  24.302216\n",
       "2010-01-06  24.153070\n",
       "2010-01-07  23.901886\n",
       "2010-01-08  24.066734"
      ]
     },
     "execution_count": 28,
     "metadata": {},
     "output_type": "execute_result"
    }
   ],
   "source": [
    "msft_df.head()"
   ]
  },
  {
   "cell_type": "code",
   "execution_count": 6,
   "metadata": {},
   "outputs": [],
   "source": [
    "msft_df_log=msft_df['MSFT'].transform(np.log)"
   ]
  },
  {
   "cell_type": "markdown",
   "metadata": {},
   "source": [
    "##### Differencing"
   ]
  },
  {
   "cell_type": "code",
   "execution_count": 16,
   "metadata": {},
   "outputs": [],
   "source": [
    "#Differencing\n",
    "diff = pd.DataFrame(msft_df_log.diff())"
   ]
  },
  {
   "cell_type": "code",
   "execution_count": 31,
   "metadata": {
    "scrolled": true
   },
   "outputs": [
    {
     "data": {
      "text/html": [
       "<div>\n",
       "<style scoped>\n",
       "    .dataframe tbody tr th:only-of-type {\n",
       "        vertical-align: middle;\n",
       "    }\n",
       "\n",
       "    .dataframe tbody tr th {\n",
       "        vertical-align: top;\n",
       "    }\n",
       "\n",
       "    .dataframe thead th {\n",
       "        text-align: right;\n",
       "    }\n",
       "</style>\n",
       "<table border=\"1\" class=\"dataframe\">\n",
       "  <thead>\n",
       "    <tr style=\"text-align: right;\">\n",
       "      <th></th>\n",
       "      <th>MSFT</th>\n",
       "    </tr>\n",
       "    <tr>\n",
       "      <th>Date</th>\n",
       "      <th></th>\n",
       "    </tr>\n",
       "  </thead>\n",
       "  <tbody>\n",
       "    <tr>\n",
       "      <td>2010-01-04</td>\n",
       "      <td>NaN</td>\n",
       "    </tr>\n",
       "    <tr>\n",
       "      <td>2010-01-05</td>\n",
       "      <td>0.000323</td>\n",
       "    </tr>\n",
       "    <tr>\n",
       "      <td>2010-01-06</td>\n",
       "      <td>-0.006156</td>\n",
       "    </tr>\n",
       "    <tr>\n",
       "      <td>2010-01-07</td>\n",
       "      <td>-0.010454</td>\n",
       "    </tr>\n",
       "    <tr>\n",
       "      <td>2010-01-08</td>\n",
       "      <td>0.006873</td>\n",
       "    </tr>\n",
       "  </tbody>\n",
       "</table>\n",
       "</div>"
      ],
      "text/plain": [
       "                MSFT\n",
       "Date                \n",
       "2010-01-04       NaN\n",
       "2010-01-05  0.000323\n",
       "2010-01-06 -0.006156\n",
       "2010-01-07 -0.010454\n",
       "2010-01-08  0.006873"
      ]
     },
     "execution_count": 31,
     "metadata": {},
     "output_type": "execute_result"
    }
   ],
   "source": [
    "diff.head()"
   ]
  },
  {
   "cell_type": "code",
   "execution_count": 32,
   "metadata": {},
   "outputs": [
    {
     "data": {
      "text/plain": [
       "[<matplotlib.lines.Line2D at 0x12d753490>]"
      ]
     },
     "execution_count": 32,
     "metadata": {},
     "output_type": "execute_result"
    },
    {
     "data": {
      "image/png": "[encoded data removed]",
      "text/plain": [
       "<Figure size 720x360 with 1 Axes>"
      ]
     },
     "metadata": {
      "needs_background": "light"
     },
     "output_type": "display_data"
    }
   ],
   "source": [
    "plt.figure(figsize=(10,5))\n",
    "plt.plot(diff)"
   ]
  },
  {
   "cell_type": "code",
   "execution_count": 33,
   "metadata": {},
   "outputs": [
    {
     "name": "stdout",
     "output_type": "stream",
     "text": [
      "Test Statistic                  -25.166773\n",
      "p-value                           0.000000\n",
      "#Lags Used                        6.000000\n",
      "Number of Observations Used    3640.000000\n",
      "dtype: float64\n"
     ]
    }
   ],
   "source": [
    "#Dickey-Fuller Test\n",
    "from statsmodels.tsa.stattools import adfuller\n",
    "test = adfuller(diff['MSFT'][1:-1])\n",
    "dfoutput = pd.Series(test[0:4], index=['Test Statistic','p-value','#Lags Used','Number of Observations Used'])\n",
    "print(dfoutput)"
   ]
  },
  {
   "cell_type": "code",
   "execution_count": 34,
   "metadata": {},
   "outputs": [
    {
     "data": {
      "image/png": "[encoded data removed]",
      "text/plain": [
       "<Figure size 432x288 with 1 Axes>"
      ]
     },
     "execution_count": 34,
     "metadata": {},
     "output_type": "execute_result"
    },
    {
     "data": {
      "image/png": "[encoded data removed]",
      "text/plain": [
       "<Figure size 432x288 with 1 Axes>"
      ]
     },
     "metadata": {
      "needs_background": "light"
     },
     "output_type": "display_data"
    }
   ],
   "source": [
    "#ACF/PACF to determine which terms in include (MA or AR or Both?)\n",
    "from statsmodels.graphics.tsaplots import plot_acf\n",
    "#plot autocorrelation for each lag (alpha is confidence interval)\n",
    "plot_acf(msft_df_log[:-1], alpha=.05)"
   ]
  },
  {
   "cell_type": "code",
   "execution_count": 35,
   "metadata": {},
   "outputs": [
    {
     "data": {
      "image/png": "[encoded data removed]",
      "text/plain": [
       "<Figure size 432x288 with 1 Axes>"
      ]
     },
     "execution_count": 35,
     "metadata": {},
     "output_type": "execute_result"
    },
    {
     "data": {
      "image/png": "[encoded data removed]",
      "text/plain": [
       "<Figure size 432x288 with 1 Axes>"
      ]
     },
     "metadata": {
      "needs_background": "light"
     },
     "output_type": "display_data"
    }
   ],
   "source": [
    "from statsmodels.graphics.tsaplots import plot_pacf\n",
    "plot_pacf(msft_df_log[:-1], alpha=.05, lags=20)"
   ]
  },
  {
   "cell_type": "markdown",
   "metadata": {},
   "source": [
    "###### Model"
   ]
  },
  {
   "cell_type": "code",
   "execution_count": 56,
   "metadata": {},
   "outputs": [],
   "source": [
    "#divide into train and validation set\n",
    "train = msft_df_log[:int(0.8*(len(msft_df_log)))]\n",
    "valid = msft_df_log[int(0.8*(len(msft_df_log))):]"
   ]
  },
  {
   "cell_type": "code",
   "execution_count": 76,
   "metadata": {
    "scrolled": true
   },
   "outputs": [
    {
     "data": {
      "text/plain": [
       "<matplotlib.axes._subplots.AxesSubplot at 0x125b06a50>"
      ]
     },
     "execution_count": 76,
     "metadata": {},
     "output_type": "execute_result"
    },
    {
     "data": {
      "image/png": "[encoded data removed]",
      "text/plain": [
       "<Figure size 432x288 with 1 Axes>"
      ]
     },
     "metadata": {
      "needs_background": "light"
     },
     "output_type": "display_data"
    }
   ],
   "source": [
    "#plotting the data\n",
    "train.plot()\n",
    "valid.plot()"
   ]
  },
  {
   "cell_type": "code",
   "execution_count": 71,
   "metadata": {
    "scrolled": true
   },
   "outputs": [
    {
     "name": "stdout",
     "output_type": "stream",
     "text": [
      "                             ARIMA Model Results                              \n",
      "==============================================================================\n",
      "Dep. Variable:                 D.MSFT   No. Observations:                 2918\n",
      "Model:                 ARIMA(1, 1, 0)   Log Likelihood                8851.343\n",
      "Method:                       css-mle   S.D. of innovations              0.012\n",
      "Date:                Tue, 03 Mar 2020   AIC                         -17696.686\n",
      "Time:                        15:56:05   BIC                         -17678.750\n",
      "Sample:                    01-05-2010   HQIC                        -17690.225\n",
      "                         - 12-31-2017                                         \n",
      "================================================================================\n",
      "                   coef    std err          z      P>|z|      [0.025      0.975]\n",
      "--------------------------------------------------------------------------------\n",
      "const            0.0004      0.000      1.939      0.053   -4.62e-06       0.001\n",
      "ar.L1.D.MSFT     0.0032      0.019      0.175      0.861      -0.033       0.040\n",
      "                                    Roots                                    \n",
      "=============================================================================\n",
      "                  Real          Imaginary           Modulus         Frequency\n",
      "-----------------------------------------------------------------------------\n",
      "AR.1          308.1480           +0.0000j          308.1480            0.0000\n",
      "-----------------------------------------------------------------------------\n"
     ]
    },
    {
     "name": "stderr",
     "output_type": "stream",
     "text": [
      "/Users/eharacz/opt/anaconda3/lib/python3.7/site-packages/statsmodels/tsa/base/tsa_model.py:162: ValueWarning: No frequency information was provided, so inferred frequency D will be used.\n",
      "  % freq, ValueWarning)\n",
      "/Users/eharacz/opt/anaconda3/lib/python3.7/site-packages/statsmodels/tsa/base/tsa_model.py:162: ValueWarning: No frequency information was provided, so inferred frequency D will be used.\n",
      "  % freq, ValueWarning)\n"
     ]
    }
   ],
   "source": [
    "from statsmodels.tsa.arima_model import ARIMA\n",
    "#fit ARIMA model (3,1,0))\n",
    "\n",
    "model = ARIMA(train,order=(1,1,0)) \n",
    "model_fit = model.fit(disp=0)\n",
    "print(model_fit.summary())"
   ]
  },
  {
   "cell_type": "code",
   "execution_count": 72,
   "metadata": {
    "scrolled": true
   },
   "outputs": [],
   "source": [
    "forecast_master = model_fit.forecast(len(valid))\n",
    "forecast = pd.DataFrame(forecast_master[0],index = valid.index,columns=['Prediction'])\n",
    "stderr = pd.DataFrame(forecast_master[1],index = valid.index,columns=['Standard Error'])\n",
    "conf_int = pd.DataFrame(forecast_master[2],index = valid.index,columns=['Confidence Interval1','Confidence Interval2'])\n"
   ]
  },
  {
   "cell_type": "code",
   "execution_count": 73,
   "metadata": {},
   "outputs": [
    {
     "data": {
      "text/html": [
       "<div>\n",
       "<style scoped>\n",
       "    .dataframe tbody tr th:only-of-type {\n",
       "        vertical-align: middle;\n",
       "    }\n",
       "\n",
       "    .dataframe tbody tr th {\n",
       "        vertical-align: top;\n",
       "    }\n",
       "\n",
       "    .dataframe thead th {\n",
       "        text-align: right;\n",
       "    }\n",
       "</style>\n",
       "<table border=\"1\" class=\"dataframe\">\n",
       "  <thead>\n",
       "    <tr style=\"text-align: right;\">\n",
       "      <th></th>\n",
       "      <th>Prediction</th>\n",
       "    </tr>\n",
       "    <tr>\n",
       "      <th>Date</th>\n",
       "      <th></th>\n",
       "    </tr>\n",
       "  </thead>\n",
       "  <tbody>\n",
       "    <tr>\n",
       "      <td>2018-01-01</td>\n",
       "      <td>4.414834</td>\n",
       "    </tr>\n",
       "    <tr>\n",
       "      <td>2018-01-02</td>\n",
       "      <td>4.415253</td>\n",
       "    </tr>\n",
       "    <tr>\n",
       "      <td>2018-01-03</td>\n",
       "      <td>4.415673</td>\n",
       "    </tr>\n",
       "    <tr>\n",
       "      <td>2018-01-04</td>\n",
       "      <td>4.416092</td>\n",
       "    </tr>\n",
       "    <tr>\n",
       "      <td>2018-01-05</td>\n",
       "      <td>4.416512</td>\n",
       "    </tr>\n",
       "    <tr>\n",
       "      <td>...</td>\n",
       "      <td>...</td>\n",
       "    </tr>\n",
       "    <tr>\n",
       "      <td>2019-12-27</td>\n",
       "      <td>4.718985</td>\n",
       "    </tr>\n",
       "    <tr>\n",
       "      <td>2019-12-28</td>\n",
       "      <td>4.719404</td>\n",
       "    </tr>\n",
       "    <tr>\n",
       "      <td>2019-12-29</td>\n",
       "      <td>4.719824</td>\n",
       "    </tr>\n",
       "    <tr>\n",
       "      <td>2019-12-30</td>\n",
       "      <td>4.720243</td>\n",
       "    </tr>\n",
       "    <tr>\n",
       "      <td>2019-12-31</td>\n",
       "      <td>4.720663</td>\n",
       "    </tr>\n",
       "  </tbody>\n",
       "</table>\n",
       "<p>730 rows × 1 columns</p>\n",
       "</div>"
      ],
      "text/plain": [
       "            Prediction\n",
       "Date                  \n",
       "2018-01-01    4.414834\n",
       "2018-01-02    4.415253\n",
       "2018-01-03    4.415673\n",
       "2018-01-04    4.416092\n",
       "2018-01-05    4.416512\n",
       "...                ...\n",
       "2019-12-27    4.718985\n",
       "2019-12-28    4.719404\n",
       "2019-12-29    4.719824\n",
       "2019-12-30    4.720243\n",
       "2019-12-31    4.720663\n",
       "\n",
       "[730 rows x 1 columns]"
      ]
     },
     "execution_count": 73,
     "metadata": {},
     "output_type": "execute_result"
    }
   ],
   "source": [
    "forecast"
   ]
  },
  {
   "cell_type": "code",
   "execution_count": 74,
   "metadata": {},
   "outputs": [],
   "source": [
    "real_forecast = forecast['Prediction'].transform(math.exp) "
   ]
  },
  {
   "cell_type": "code",
   "execution_count": 75,
   "metadata": {
    "scrolled": true
   },
   "outputs": [
    {
     "data": {
      "text/plain": [
       "Date\n",
       "2018-01-01     82.668106\n",
       "2018-01-02     82.702794\n",
       "2018-01-03     82.737496\n",
       "2018-01-04     82.772214\n",
       "2018-01-05     82.806945\n",
       "                 ...    \n",
       "2019-12-27    112.054439\n",
       "2019-12-28    112.101458\n",
       "2019-12-29    112.148497\n",
       "2019-12-30    112.195555\n",
       "2019-12-31    112.242633\n",
       "Name: Prediction, Length: 730, dtype: float64"
      ]
     },
     "execution_count": 75,
     "metadata": {},
     "output_type": "execute_result"
    }
   ],
   "source": [
    "real_forecast"
   ]
  },
  {
   "cell_type": "code",
   "execution_count": 69,
   "metadata": {},
   "outputs": [
    {
     "name": "stdout",
     "output_type": "stream",
     "text": [
      "133.9622374598027\n"
     ]
    }
   ],
   "source": [
    "error = math.sqrt(mean_squared_error(valid,real_forecast))\n",
    "print(error)"
   ]
  },
  {
   "cell_type": "code",
   "execution_count": 42,
   "metadata": {},
   "outputs": [
    {
     "data": {
      "image/png": "[encoded data removed]",
      "text/plain": [
       "<Figure size 432x288 with 1 Axes>"
      ]
     },
     "metadata": {
      "needs_background": "light"
     },
     "output_type": "display_data"
    }
   ],
   "source": [
    "residuals = pd.DataFrame(model_fit.resid)\n",
    "residuals.plot()\n",
    "plt.show()"
   ]
  },
  {
   "cell_type": "code",
   "execution_count": 43,
   "metadata": {
    "scrolled": true
   },
   "outputs": [
    {
     "data": {
      "image/png": "[encoded data removed]",
      "text/plain": [
       "<Figure size 432x288 with 1 Axes>"
      ]
     },
     "metadata": {
      "needs_background": "light"
     },
     "output_type": "display_data"
    }
   ],
   "source": [
    "residuals = pd.DataFrame(model_fit.resid)\n",
    "residuals.plot(kind='kde')\n",
    "plt.show()"
   ]
  },
  {
   "cell_type": "markdown",
   "metadata": {},
   "source": [
    "# Auto-ARIMA"
   ]
  },
  {
   "cell_type": "code",
   "execution_count": 212,
   "metadata": {
    "collapsed": true
   },
   "outputs": [
    {
     "name": "stdout",
     "output_type": "stream",
     "text": [
      "Collecting pmdarima\n",
      "  Using cached https://files.pythonhosted.org/packages/02/bc/7a984c74719596308611d502b3b375a82927e6103c8f8d40f0365da1dcc9/pmdarima-1.5.3-cp37-cp37m-macosx_10_15_x86_64.whl\n",
      "Requirement already satisfied: joblib>=0.11 in /Users/eharacz/opt/anaconda3/lib/python3.7/site-packages (from pmdarima) (0.13.2)\n",
      "Requirement already satisfied: Cython>=0.29 in /Users/eharacz/opt/anaconda3/lib/python3.7/site-packages (from pmdarima) (0.29.13)\n",
      "Requirement already satisfied: scipy>=1.3.2 in /Users/eharacz/opt/anaconda3/lib/python3.7/site-packages (from pmdarima) (1.4.1)\n",
      "Requirement already satisfied: scikit-learn>=0.22 in /Users/eharacz/opt/anaconda3/lib/python3.7/site-packages (from pmdarima) (0.22.1)\n",
      "Collecting numpy>=1.17.3 (from pmdarima)\n",
      "\u001b[?25l  Downloading https://files.pythonhosted.org/packages/2f/5b/2cc2b9285e8b2ca8d2c1e4a2cbf1b12d70a2488ea78170de1909bca725f2/numpy-1.18.1-cp37-cp37m-macosx_10_9_x86_64.whl (15.1MB)\n",
      "\u001b[K     |████████████████████████████████| 15.1MB 25.8MB/s eta 0:00:01   |████████████▏                   | 5.8MB 3.6MB/s eta 0:00:03     |███████████████████▎            | 9.1MB 3.6MB/s eta 0:00:02     |████████████████████            | 9.5MB 3.6MB/s eta 0:00:02\n",
      "\u001b[?25hRequirement already satisfied: urllib3 in /Users/eharacz/opt/anaconda3/lib/python3.7/site-packages (from pmdarima) (1.24.2)\n",
      "Collecting statsmodels>=0.10.2 (from pmdarima)\n",
      "\u001b[?25l  Downloading https://files.pythonhosted.org/packages/bf/a0/f29d1644e74ecac3b86b7135f1f6058050e367568cbc493c981390c8ca34/statsmodels-0.11.1-cp37-cp37m-macosx_10_13_x86_64.whl (8.4MB)\n",
      "\u001b[K     |████████████████████████████████| 8.4MB 21.3MB/s eta 0:00:01\n",
      "\u001b[?25hRequirement already satisfied: pandas>=0.19 in /Users/eharacz/opt/anaconda3/lib/python3.7/site-packages (from pmdarima) (0.25.1)\n",
      "Requirement already satisfied: patsy>=0.5 in /Users/eharacz/opt/anaconda3/lib/python3.7/site-packages (from statsmodels>=0.10.2->pmdarima) (0.5.1)\n",
      "Requirement already satisfied: python-dateutil>=2.6.1 in /Users/eharacz/opt/anaconda3/lib/python3.7/site-packages (from pandas>=0.19->pmdarima) (2.8.0)\n",
      "Requirement already satisfied: pytz>=2017.2 in /Users/eharacz/opt/anaconda3/lib/python3.7/site-packages (from pandas>=0.19->pmdarima) (2019.3)\n",
      "Requirement already satisfied: six in /Users/eharacz/opt/anaconda3/lib/python3.7/site-packages (from patsy>=0.5->statsmodels>=0.10.2->pmdarima) (1.12.0)\n",
      "Installing collected packages: numpy, statsmodels, pmdarima\n",
      "  Found existing installation: numpy 1.17.2\n",
      "    Uninstalling numpy-1.17.2:\n",
      "      Successfully uninstalled numpy-1.17.2\n",
      "  Found existing installation: statsmodels 0.10.1\n",
      "    Uninstalling statsmodels-0.10.1:\n",
      "      Successfully uninstalled statsmodels-0.10.1\n",
      "Successfully installed numpy-1.18.1 pmdarima-1.5.3 statsmodels-0.11.1\n",
      "Note: you may need to restart the kernel to use updated packages.\n"
     ]
    }
   ],
   "source": [
    "#pip install pmdarima"
   ]
  },
  {
   "cell_type": "code",
   "execution_count": 7,
   "metadata": {},
   "outputs": [],
   "source": [
    "import pmdarima as pm\n",
    "from pmdarima.model_selection import train_test_split"
   ]
  },
  {
   "cell_type": "code",
   "execution_count": 46,
   "metadata": {},
   "outputs": [],
   "source": [
    "train1 = msft_df[:int(0.8*(len(msft_df_log)))]\n",
    "valid1 = msft_df[int(0.8*(len(msft_df_log))):]"
   ]
  },
  {
   "cell_type": "code",
   "execution_count": 183,
   "metadata": {},
   "outputs": [],
   "source": [
    "#train3 = noc_df[:int(0.8*(len(noc_df)))]\n",
    "#valid3 = noc_df[int(0.8*(len(noc_df))):]"
   ]
  },
  {
   "cell_type": "code",
   "execution_count": 47,
   "metadata": {
    "scrolled": false
   },
   "outputs": [
    {
     "name": "stdout",
     "output_type": "stream",
     "text": [
      "Performing stepwise search to minimize aic\n",
      "Fit ARIMA: (2, 2, 2)x(0, 0, 0, 0) (constant=True); AIC=3436.885, BIC=3472.755, Time=13.555 seconds\n",
      "Fit ARIMA: (0, 2, 0)x(0, 0, 0, 0) (constant=True); AIC=5511.701, BIC=5523.658, Time=0.964 seconds\n",
      "Fit ARIMA: (1, 2, 0)x(0, 0, 0, 0) (constant=True); AIC=4656.996, BIC=4674.931, Time=1.263 seconds\n",
      "Fit ARIMA: (0, 2, 1)x(0, 0, 0, 0) (constant=True); AIC=3432.387, BIC=3450.322, Time=5.986 seconds\n",
      "Near non-invertible roots for order (0, 2, 1)(0, 0, 0, 0); setting score to inf (at least one inverse root too close to the border of the unit circle: 1.000)\n",
      "Fit ARIMA: (0, 2, 0)x(0, 0, 0, 0) (constant=False); AIC=5509.701, BIC=5515.679, Time=0.171 seconds\n",
      "Fit ARIMA: (1, 2, 2)x(0, 0, 0, 0) (constant=True); AIC=3434.155, BIC=3464.046, Time=6.824 seconds\n",
      "Near non-invertible roots for order (1, 2, 2)(0, 0, 0, 0); setting score to inf (at least one inverse root too close to the border of the unit circle: 1.000)\n",
      "Fit ARIMA: (2, 2, 1)x(0, 0, 0, 0) (constant=True); AIC=3435.908, BIC=3465.799, Time=4.545 seconds\n",
      "Near non-invertible roots for order (2, 2, 1)(0, 0, 0, 0); setting score to inf (at least one inverse root too close to the border of the unit circle: 0.999)\n",
      "Fit ARIMA: (3, 2, 2)x(0, 0, 0, 0) (constant=True); AIC=3438.015, BIC=3479.863, Time=8.201 seconds\n",
      "Near non-invertible roots for order (3, 2, 2)(0, 0, 0, 0); setting score to inf (at least one inverse root too close to the border of the unit circle: 1.000)\n",
      "Fit ARIMA: (2, 2, 3)x(0, 0, 0, 0) (constant=True); AIC=3440.663, BIC=3482.511, Time=11.200 seconds\n",
      "Near non-invertible roots for order (2, 2, 3)(0, 0, 0, 0); setting score to inf (at least one inverse root too close to the border of the unit circle: 0.999)\n",
      "Fit ARIMA: (1, 2, 1)x(0, 0, 0, 0) (constant=True); AIC=3432.815, BIC=3456.728, Time=3.752 seconds\n",
      "Near non-invertible roots for order (1, 2, 1)(0, 0, 0, 0); setting score to inf (at least one inverse root too close to the border of the unit circle: 1.000)\n",
      "Fit ARIMA: (1, 2, 3)x(0, 0, 0, 0) (constant=True); AIC=3435.586, BIC=3471.456, Time=7.501 seconds\n",
      "Near non-invertible roots for order (1, 2, 3)(0, 0, 0, 0); setting score to inf (at least one inverse root too close to the border of the unit circle: 1.000)\n",
      "Fit ARIMA: (3, 2, 1)x(0, 0, 0, 0) (constant=True); AIC=3444.512, BIC=3480.382, Time=6.353 seconds\n",
      "Near non-invertible roots for order (3, 2, 1)(0, 0, 0, 0); setting score to inf (at least one inverse root too close to the border of the unit circle: 0.996)\n",
      "Fit ARIMA: (3, 2, 3)x(0, 0, 0, 0) (constant=True); AIC=3444.423, BIC=3492.249, Time=7.970 seconds\n",
      "Near non-invertible roots for order (3, 2, 3)(0, 0, 0, 0); setting score to inf (at least one inverse root too close to the border of the unit circle: 0.996)\n",
      "Total fit time: 78.353 seconds\n"
     ]
    },
    {
     "data": {
      "image/png": "[encoded data removed]",
      "text/plain": [
       "<Figure size 432x288 with 1 Axes>"
      ]
     },
     "metadata": {
      "needs_background": "light"
     },
     "output_type": "display_data"
    }
   ],
   "source": [
    "# Fit your model\n",
    "import pmdarima as pm\n",
    "model = pm.auto_arima(train1, seasonal=False, trace=True, error_action='ignore', suppress_warnings=True)\n",
    "model.fit(train1)\n",
    "\n",
    "forecast = model.predict(n_periods=len(valid1))\n",
    "forecast = pd.DataFrame(forecast,index = valid1.index,columns=['Prediction'])\n",
    "\n",
    "#plot the predictions for validation set\n",
    "plt.plot(train1, label='Train')\n",
    "plt.plot(valid1, label='Valid')\n",
    "plt.plot(forecast, label='Prediction')\n",
    "plt.show()"
   ]
  },
  {
   "cell_type": "code",
   "execution_count": 48,
   "metadata": {},
   "outputs": [],
   "source": [
    "comp_df = valid1.merge(forecast,left_index=True, right_index=True)"
   ]
  },
  {
   "cell_type": "code",
   "execution_count": 49,
   "metadata": {},
   "outputs": [],
   "source": [
    "comp_df['Error'] = comp_df['MSFT'] - comp_df['Prediction']"
   ]
  },
  {
   "cell_type": "code",
   "execution_count": 50,
   "metadata": {},
   "outputs": [],
   "source": [
    "pd.set_option('display.max_rows', 500)"
   ]
  },
  {
   "cell_type": "code",
   "execution_count": 51,
   "metadata": {
    "scrolled": true
   },
   "outputs": [
    {
     "data": {
      "text/html": [
       "<div>\n",
       "<style scoped>\n",
       "    .dataframe tbody tr th:only-of-type {\n",
       "        vertical-align: middle;\n",
       "    }\n",
       "\n",
       "    .dataframe tbody tr th {\n",
       "        vertical-align: top;\n",
       "    }\n",
       "\n",
       "    .dataframe thead th {\n",
       "        text-align: right;\n",
       "    }\n",
       "</style>\n",
       "<table border=\"1\" class=\"dataframe\">\n",
       "  <thead>\n",
       "    <tr style=\"text-align: right;\">\n",
       "      <th></th>\n",
       "      <th>MSFT</th>\n",
       "      <th>Prediction</th>\n",
       "      <th>Error</th>\n",
       "    </tr>\n",
       "    <tr>\n",
       "      <th>Date</th>\n",
       "      <th></th>\n",
       "      <th></th>\n",
       "      <th></th>\n",
       "    </tr>\n",
       "  </thead>\n",
       "  <tbody>\n",
       "    <tr>\n",
       "      <td>2019-12-27</td>\n",
       "      <td>158.527008</td>\n",
       "      <td>121.810654</td>\n",
       "      <td>36.716354</td>\n",
       "    </tr>\n",
       "    <tr>\n",
       "      <td>2019-12-28</td>\n",
       "      <td>158.527008</td>\n",
       "      <td>121.871312</td>\n",
       "      <td>36.655696</td>\n",
       "    </tr>\n",
       "    <tr>\n",
       "      <td>2019-12-29</td>\n",
       "      <td>158.527008</td>\n",
       "      <td>121.931988</td>\n",
       "      <td>36.595020</td>\n",
       "    </tr>\n",
       "    <tr>\n",
       "      <td>2019-12-30</td>\n",
       "      <td>157.160736</td>\n",
       "      <td>121.992683</td>\n",
       "      <td>35.168053</td>\n",
       "    </tr>\n",
       "    <tr>\n",
       "      <td>2019-12-31</td>\n",
       "      <td>157.270432</td>\n",
       "      <td>122.053396</td>\n",
       "      <td>35.217035</td>\n",
       "    </tr>\n",
       "  </tbody>\n",
       "</table>\n",
       "</div>"
      ],
      "text/plain": [
       "                  MSFT  Prediction      Error\n",
       "Date                                         \n",
       "2019-12-27  158.527008  121.810654  36.716354\n",
       "2019-12-28  158.527008  121.871312  36.655696\n",
       "2019-12-29  158.527008  121.931988  36.595020\n",
       "2019-12-30  157.160736  121.992683  35.168053\n",
       "2019-12-31  157.270432  122.053396  35.217035"
      ]
     },
     "execution_count": 51,
     "metadata": {},
     "output_type": "execute_result"
    }
   ],
   "source": [
    "comp_df.tail()"
   ]
  },
  {
   "cell_type": "code",
   "execution_count": 53,
   "metadata": {
    "scrolled": true
   },
   "outputs": [
    {
     "data": {
      "text/html": [
       "<div>\n",
       "<style scoped>\n",
       "    .dataframe tbody tr th:only-of-type {\n",
       "        vertical-align: middle;\n",
       "    }\n",
       "\n",
       "    .dataframe tbody tr th {\n",
       "        vertical-align: top;\n",
       "    }\n",
       "\n",
       "    .dataframe thead th {\n",
       "        text-align: right;\n",
       "    }\n",
       "</style>\n",
       "<table border=\"1\" class=\"dataframe\">\n",
       "  <thead>\n",
       "    <tr style=\"text-align: right;\">\n",
       "      <th></th>\n",
       "      <th>Prediction</th>\n",
       "    </tr>\n",
       "    <tr>\n",
       "      <th>Date</th>\n",
       "      <th></th>\n",
       "    </tr>\n",
       "  </thead>\n",
       "  <tbody>\n",
       "    <tr>\n",
       "      <td>2019-12-27</td>\n",
       "      <td>121.810654</td>\n",
       "    </tr>\n",
       "    <tr>\n",
       "      <td>2019-12-28</td>\n",
       "      <td>121.871312</td>\n",
       "    </tr>\n",
       "    <tr>\n",
       "      <td>2019-12-29</td>\n",
       "      <td>121.931988</td>\n",
       "    </tr>\n",
       "    <tr>\n",
       "      <td>2019-12-30</td>\n",
       "      <td>121.992683</td>\n",
       "    </tr>\n",
       "    <tr>\n",
       "      <td>2019-12-31</td>\n",
       "      <td>122.053396</td>\n",
       "    </tr>\n",
       "  </tbody>\n",
       "</table>\n",
       "</div>"
      ],
      "text/plain": [
       "            Prediction\n",
       "Date                  \n",
       "2019-12-27  121.810654\n",
       "2019-12-28  121.871312\n",
       "2019-12-29  121.931988\n",
       "2019-12-30  121.992683\n",
       "2019-12-31  122.053396"
      ]
     },
     "execution_count": 53,
     "metadata": {},
     "output_type": "execute_result"
    }
   ],
   "source": [
    "forecast.tail()"
   ]
  },
  {
   "cell_type": "code",
   "execution_count": 54,
   "metadata": {},
   "outputs": [
    {
     "name": "stdout",
     "output_type": "stream",
     "text": [
      "15.445607658639732\n"
     ]
    }
   ],
   "source": [
    "from sklearn.metrics import mean_squared_error\n",
    "\n",
    "rms = math.sqrt(mean_squared_error(valid1,forecast))\n",
    "print(rms)"
   ]
  },
  {
   "cell_type": "code",
   "execution_count": 151,
   "metadata": {},
   "outputs": [],
   "source": [
    "# reverse the log to inspect actual price prediction\n",
    "real_forecast = forecast['Prediction'].transform(math.exp)"
   ]
  },
  {
   "cell_type": "code",
   "execution_count": 162,
   "metadata": {},
   "outputs": [
    {
     "data": {
      "text/plain": [
       "Date\n",
       "2018-01-01     82.668216\n",
       "2018-01-02     82.702902\n",
       "2018-01-03     82.737602\n",
       "2018-01-04     82.772317\n",
       "2018-01-05     82.807047\n",
       "                 ...    \n",
       "2019-12-27    112.052345\n",
       "2019-12-28    112.099360\n",
       "2019-12-29    112.146395\n",
       "2019-12-30    112.193449\n",
       "2019-12-31    112.240523\n",
       "Name: Prediction, Length: 730, dtype: float64"
      ]
     },
     "execution_count": 162,
     "metadata": {},
     "output_type": "execute_result"
    }
   ],
   "source": [
    "real_forecast"
   ]
  },
  {
   "cell_type": "code",
   "execution_count": null,
   "metadata": {},
   "outputs": [],
   "source": []
  }
 ],
 "metadata": {
  "kernelspec": {
   "display_name": "Python 3",
   "language": "python",
   "name": "python3"
  },
  "language_info": {
   "codemirror_mode": {
    "name": "ipython",
    "version": 3
   },
   "file_extension": ".py",
   "mimetype": "text/x-python",
   "name": "python",
   "nbconvert_exporter": "python",
   "pygments_lexer": "ipython3",
   "version": "3.7.4"
  }
 },
 "nbformat": 4,
 "nbformat_minor": 2
}
